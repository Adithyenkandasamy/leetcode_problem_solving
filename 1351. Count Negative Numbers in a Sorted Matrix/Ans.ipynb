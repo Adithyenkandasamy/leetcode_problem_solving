{
 "cells": [
  {
   "cell_type": "code",
   "execution_count": null,
   "id": "8187bc8e",
   "metadata": {
    "vscode": {
     "languageId": "markdown"
    }
   },
   "outputs": [],
   "source": [
    "# 1351. Count Negative Numbers in a Sorted Matrix\n",
    "\n",
    "## Problem Description\n",
    "\n",
    "Given an `m x n` matrix `grid` which is sorted in non-increasing order both row-wise and column-wise, return the number of negative numbers in `grid`.\n",
    "\n",
    "### Example 1:\n",
    "\n",
    "**Input:**  \n",
    "`grid = [[4,3,2,-1],[3,2,1,-1],[1,1,-1,-2],[-1,-1,-2,-3]]`  \n",
    "**Output:**  \n",
    "`8`  \n",
    "**Explanation:**  \n",
    "There are 8 negative numbers in the matrix.\n",
    "\n",
    "### Example 2:\n",
    "\n",
    "**Input:**  \n",
    "`grid = [[3,2],[1,0]]`  \n",
    "**Output:**  \n",
    "`0`\n",
    "\n",
    "### Constraints:\n",
    "\n",
    "- `m == grid.length`\n",
    "- `n == grid[i].length`\n",
    "- `1 <= m, n <= 100`\n",
    "- `-100 <= grid[i][j] <= 100`\n",
    "\n",
    "### Follow-up:\n",
    "\n",
    "Could you find an `O(n + m)` solution?\n",
    "\n",
    "---\n",
    "\n",
    "## Solution\n",
    "\n",
    "### Approach:\n",
    "\n",
    "To solve this problem efficiently in `O(n + m)` time, we can use the following approach:\n",
    "\n",
    "1. Start from the bottom-left corner of the matrix.\n",
    "2. If the current element is negative, all elements above it in the same column are also negative (since the matrix is sorted). Count all these elements and move one column to the right.\n",
    "3. If the current element is non-negative, move one row up.\n",
    "4. Repeat until you go out of bounds.\n",
    "\n",
    "### Implementation:\n"
   ]
  },
  {
   "cell_type": "code",
   "execution_count": 3,
   "id": "49f0d781",
   "metadata": {},
   "outputs": [],
   "source": [
    "from typing import List\n",
    "grid = [[4,3,2,-1],[3,2,1,-1],[1,1,-1,-2],[-1,-1,-2,-3]]\n",
    "\n",
    "def countNegatives(grid: List[List[int]]) -> int:\n",
    "    count = 0\n",
    "    for i in range(len(grid)):\n",
    "        for j in range(len(grid[0])):\n",
    "            if grid[i][j] <0:\n",
    "                count+=1\n",
    "    print(count)            "
   ]
  },
  {
   "cell_type": "code",
   "execution_count": 4,
   "id": "326fb224",
   "metadata": {},
   "outputs": [
    {
     "name": "stdout",
     "output_type": "stream",
     "text": [
      "8\n"
     ]
    }
   ],
   "source": [
    "countNegatives(grid)"
   ]
  }
 ],
 "metadata": {
  "kernelspec": {
   "display_name": "Python 3",
   "language": "python",
   "name": "python3"
  },
  "language_info": {
   "codemirror_mode": {
    "name": "ipython",
    "version": 3
   },
   "file_extension": ".py",
   "mimetype": "text/x-python",
   "name": "python",
   "nbconvert_exporter": "python",
   "pygments_lexer": "ipython3",
   "version": "3.10.12"
  }
 },
 "nbformat": 4,
 "nbformat_minor": 5
}
