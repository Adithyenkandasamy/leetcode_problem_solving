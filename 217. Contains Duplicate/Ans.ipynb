{
 "cells": [
  {
   "cell_type": "markdown",
   "id": "f16811ab",
   "metadata": {},
   "source": [
    "```markdown\n",
    "# 217. Contains Duplicate\n",
    "\n",
    "**Difficulty:** Easy  \n",
    "**Topics:** Arrays, Hashing  \n",
    "**Companies:** Multiple  \n",
    "\n",
    "---\n",
    "\n",
    "## Problem Statement\n",
    "\n",
    "Given an integer array `nums`, return `true` if any value appears at least twice in the array, and return `false` if every element is distinct.\n",
    "\n",
    "---\n",
    "\n",
    "## Examples\n",
    "\n",
    "### Example 1:\n",
    "**Input:**  \n",
    "`nums = [1,2,3,1]`  \n",
    "\n",
    "**Output:**  \n",
    "`true`  \n",
    "\n",
    "**Explanation:**  \n",
    "The element `1` occurs at the indices `0` and `3`.\n",
    "\n",
    "---\n",
    "\n",
    "### Example 2:\n",
    "**Input:**  \n",
    "`nums = [1,2,3,4]`  \n",
    "\n",
    "**Output:**  \n",
    "`false`  \n",
    "\n",
    "**Explanation:**  \n",
    "All elements are distinct.\n",
    "\n",
    "---\n",
    "\n",
    "### Example 3:\n",
    "**Input:**  \n",
    "`nums = [1,1,1,3,3,4,3,2,4,2]`  \n",
    "\n",
    "**Output:**  \n",
    "`true`  \n",
    "\n",
    "---\n",
    "\n",
    "## Constraints:\n",
    "- `1 <= nums.length <= 10^5`\n",
    "- `-10^9 <= nums[i] <= 10^9`\n",
    "```"
   ]
  },
  {
   "cell_type": "code",
   "execution_count": 7,
   "id": "43134472",
   "metadata": {},
   "outputs": [],
   "source": [
    "from typing import List\n",
    "\n",
    "def containsDuplicate(nums: List[int]) -> bool:\n",
    "    count = 0\n",
    "    for num in nums:\n",
    "        if nums.count(num) > 1:\n",
    "            return True\n",
    "        return False        "
   ]
  },
  {
   "cell_type": "code",
   "execution_count": 8,
   "id": "e10204b1",
   "metadata": {},
   "outputs": [
    {
     "name": "stdout",
     "output_type": "stream",
     "text": [
      "True\n"
     ]
    }
   ],
   "source": [
    "nums = [1, 2, 3, 1]\n",
    "print(containsDuplicate(nums))"
   ]
  }
 ],
 "metadata": {
  "kernelspec": {
   "display_name": "Python 3",
   "language": "python",
   "name": "python3"
  },
  "language_info": {
   "codemirror_mode": {
    "name": "ipython",
    "version": 3
   },
   "file_extension": ".py",
   "mimetype": "text/x-python",
   "name": "python",
   "nbconvert_exporter": "python",
   "pygments_lexer": "ipython3",
   "version": "3.10.12"
  }
 },
 "nbformat": 4,
 "nbformat_minor": 5
}
