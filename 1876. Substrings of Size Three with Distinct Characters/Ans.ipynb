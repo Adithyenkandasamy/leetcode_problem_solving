{
 "cells": [
  {
   "cell_type": "code",
   "execution_count": null,
   "id": "c4b73df4",
   "metadata": {
    "vscode": {
     "languageId": "markdown"
    }
   },
   "outputs": [],
   "source": [
    "```markdown\n",
    "# 1876. Substrings of Size Three with Distinct Characters\n",
    "\n",
    "**Difficulty:** Easy  \n",
    "**Topics:** Strings  \n",
    "**Companies:** -  \n",
    "**Hint:** A string is good if there are no repeated characters.\n",
    "\n",
    "---\n",
    "\n",
    "## Problem Statement\n",
    "\n",
    "Given a string `s`, return the number of good substrings of length three in `s`.\n",
    "\n",
    "A substring is a contiguous sequence of characters in a string. A substring is considered **good** if there are no repeated characters.\n",
    "\n",
    "Note that if there are multiple occurrences of the same substring, every occurrence should be counted.\n",
    "\n",
    "---\n",
    "\n",
    "## Examples\n",
    "\n",
    "### Example 1:\n",
    "**Input:**  \n",
    "`s = \"xyzzaz\"`  \n",
    "**Output:**  \n",
    "`1`  \n",
    "**Explanation:**  \n",
    "There are 4 substrings of size 3: `\"xyz\"`, `\"yzz\"`, `\"zza\"`, and `\"zaz\"`.  \n",
    "The only good substring of length 3 is `\"xyz\"`.\n",
    "\n",
    "---\n",
    "\n",
    "### Example 2:\n",
    "**Input:**  \n",
    "`s = \"aababcabc\"`  \n",
    "**Output:**  \n",
    "`4`  \n",
    "**Explanation:**  \n",
    "There are 7 substrings of size 3: `\"aab\"`, `\"aba\"`, `\"bab\"`, `\"abc\"`, `\"bca\"`, `\"cab\"`, and `\"abc\"`.  \n",
    "The good substrings are `\"abc\"`, `\"bca\"`, `\"cab\"`, and `\"abc\"`.\n",
    "\n",
    "---\n",
    "\n",
    "## Constraints\n",
    "\n",
    "- `1 <= s.length <= 100`\n",
    "- `s` consists of lowercase English letters.\n",
    "```"
   ]
  },
  {
   "cell_type": "code",
   "execution_count": 16,
   "id": "81353018",
   "metadata": {},
   "outputs": [
    {
     "data": {
      "text/plain": [
       "1"
      ]
     },
     "execution_count": 16,
     "metadata": {},
     "output_type": "execute_result"
    }
   ],
   "source": [
    "s = \"xyzzaz\"\n",
    "def countGoodSubstrings( s: str) -> int:\n",
    "    val = []\n",
    "    count = 0\n",
    "    for i in range(len(s)-2):\n",
    "        val.append(''.join(s[i:i+3]))\n",
    "    for i in range(len(val)):\n",
    "        if len(set(val[i])) == 3:\n",
    "           count += 1\n",
    "        else:\n",
    "            continue\n",
    "    return count       \n",
    "\n",
    "countGoodSubstrings(s)\n"
   ]
  }
 ],
 "metadata": {
  "kernelspec": {
   "display_name": "Python 3",
   "language": "python",
   "name": "python3"
  },
  "language_info": {
   "codemirror_mode": {
    "name": "ipython",
    "version": 3
   },
   "file_extension": ".py",
   "mimetype": "text/x-python",
   "name": "python",
   "nbconvert_exporter": "python",
   "pygments_lexer": "ipython3",
   "version": "3.10.12"
  }
 },
 "nbformat": 4,
 "nbformat_minor": 5
}
