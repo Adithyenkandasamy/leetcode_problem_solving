{
 "cells": [
  {
   "cell_type": "code",
   "execution_count": null,
   "id": "96e9a3a7",
   "metadata": {
    "vscode": {
     "languageId": "markdown"
    }
   },
   "outputs": [],
   "source": [
    "# 21. Merge Two Sorted Lists\n",
    "\n",
    "**Difficulty:** Easy  \n",
    "**Topics:** Linked List  \n",
    "**Companies:** N/A  \n",
    "\n",
    "## Problem Description\n",
    "\n",
    "You are given the heads of two sorted linked lists `list1` and `list2`.\n",
    "\n",
    "Merge the two lists into one sorted list. The list should be made by splicing together the nodes of the first two lists.\n",
    "\n",
    "Return the head of the merged linked list.\n",
    "\n",
    "---\n",
    "\n",
    "### Example 1:\n",
    "\n",
    "**Input:**  \n",
    "`list1 = [1,2,4]`, `list2 = [1,3,4]`  \n",
    "**Output:**  \n",
    "`[1,1,2,3,4,4]`\n",
    "![alt text](https://assets.leetcode.com/uploads/2020/10/03/merge_ex1.jpg)\n",
    "\n",
    "---\n",
    "\n",
    "### Example 2:\n",
    "\n",
    "**Input:**  \n",
    "`list1 = []`, `list2 = []`  \n",
    "**Output:**  \n",
    "`[]`\n",
    "\n",
    "---\n",
    "\n",
    "### Example 3:\n",
    "\n",
    "**Input:**  \n",
    "`list1 = []`, `list2 = [0]`  \n",
    "**Output:**  \n",
    "`[0]`\n",
    "\n",
    "---\n",
    "\n",
    "## Constraints:\n",
    "\n",
    "- The number of nodes in both lists is in the range `[0, 50]`.\n",
    "- `-100 <= Node.val <= 100`\n",
    "- Both `list1` and `list2` are sorted in non-decreasing order."
   ]
  },
  {
   "cell_type": "code",
   "execution_count": null,
   "id": "d1163eb4",
   "metadata": {},
   "outputs": [],
   "source": [
    "class ListNode:\n",
    "    def __init__(self, val=0, next=None):\n",
    "        self.val = val\n",
    "        self.next = next\n",
    "\n",
    "class Solution:\n",
    "    def mergeTwoLists(self, list1: ListNode, list2: ListNode) -> ListNode:\n",
    "        dummyNode = ListNode(-1)\n",
    "        temp = dummyNode\n",
    "\n",
    "        curr1, curr2 = list1, list2\n",
    "\n",
    "        while curr1 and curr2:\n",
    "            if curr1.val < curr2.val:\n",
    "                temp.next = curr1\n",
    "                curr1 = curr1.next\n",
    "            else:\n",
    "                temp.next = curr2\n",
    "                curr2 = curr2.next\n",
    "            temp = temp.next\n",
    "\n",
    "        # Attach the remaining nodes\n",
    "        temp.next = curr1 if curr1 else curr2\n",
    "\n",
    "        return dummyNode.next\n"
   ]
  }
 ],
 "metadata": {
  "kernelspec": {
   "display_name": "Python 3",
   "language": "python",
   "name": "python3"
  },
  "language_info": {
   "codemirror_mode": {
    "name": "ipython",
    "version": 3
   },
   "file_extension": ".py",
   "mimetype": "text/x-python",
   "name": "python",
   "nbconvert_exporter": "python",
   "pygments_lexer": "ipython3",
   "version": "3.10.12"
  }
 },
 "nbformat": 4,
 "nbformat_minor": 5
}
