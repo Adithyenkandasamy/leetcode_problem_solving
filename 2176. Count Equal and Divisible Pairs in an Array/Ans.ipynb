{
 "cells": [
  {
   "cell_type": "code",
   "execution_count": null,
   "id": "10d81ea2",
   "metadata": {
    "vscode": {
     "languageId": "markdown"
    }
   },
   "outputs": [],
   "source": [
    "### 2176. Count Equal and Divisible Pairs in an Array\n",
    "\n",
    "**Difficulty:** Easy  \n",
    "**Topics:**  \n",
    "**Companies:**  \n",
    "**Hint:**  \n",
    "\n",
    "Given a 0-indexed integer array `nums` of length `n` and an integer `k`, return the number of pairs `(i, j)` where `0 <= i < j < n`, such that `nums[i] == nums[j]` and `(i * j)` is divisible by `k`.\n",
    "\n",
    "---\n",
    "\n",
    "#### Example 1:\n",
    "\n",
    "**Input:**  \n",
    "`nums = [3,1,2,2,2,1,3]`, `k = 2`  \n",
    "**Output:**  \n",
    "`4`  \n",
    "\n",
    "**Explanation:**  \n",
    "There are 4 pairs that meet all the requirements:  \n",
    "- `nums[0] == nums[6]`, and `0 * 6 == 0`, which is divisible by `2`.  \n",
    "- `nums[2] == nums[3]`, and `2 * 3 == 6`, which is divisible by `2`.  \n",
    "- `nums[2] == nums[4]`, and `2 * 4 == 8`, which is divisible by `2`.  \n",
    "- `nums[3] == nums[4]`, and `3 * 4 == 12`, which is divisible by `2`.  \n",
    "\n",
    "---\n",
    "\n",
    "#### Example 2:\n",
    "\n",
    "**Input:**  \n",
    "`nums = [1,2,3,4]`, `k = 1`  \n",
    "**Output:**  \n",
    "`0`  \n",
    "\n",
    "**Explanation:**  \n",
    "Since no value in `nums` is repeated, there are no pairs `(i, j)` that meet all the requirements.\n",
    "\n",
    "---\n",
    "\n",
    "#### Constraints:\n",
    "\n",
    "- `1 <= nums.length <= 100`  \n",
    "- `1 <= nums[i], k <= 100`"
   ]
  },
  {
   "cell_type": "code",
   "execution_count": 8,
   "id": "dac19d6a",
   "metadata": {
    "vscode": {
     "languageId": "markdown"
    }
   },
   "outputs": [],
   "source": [
    "from typing import List\n",
    "\n",
    "def countPairs(nums: List[int], k: int) -> int:\n",
    "        count = 0\n",
    "        for i in range(len(nums)):\n",
    "            for j in range(i+1,len(nums)):\n",
    "                if nums[i] == nums[j] and (i*j)%k ==0:\n",
    "                    count +=1\n",
    "        return count            \n"
   ]
  },
  {
   "cell_type": "code",
   "execution_count": 10,
   "id": "bc79cff1",
   "metadata": {
    "vscode": {
     "languageId": "markdown"
    }
   },
   "outputs": [
    {
     "name": "stdout",
     "output_type": "stream",
     "text": [
      "18\n"
     ]
    }
   ],
   "source": [
    "nums = [5,5,9,2,5,5,9,2,2,5,5,6,2,2,5,2,5,4,3]\n",
    "k = 7\n",
    "print(countPairs(nums,k))"
   ]
  }
 ],
 "metadata": {
  "kernelspec": {
   "display_name": "Python 3",
   "language": "python",
   "name": "python3"
  },
  "language_info": {
   "codemirror_mode": {
    "name": "ipython",
    "version": 3
   },
   "file_extension": ".py",
   "mimetype": "text/x-python",
   "name": "python",
   "nbconvert_exporter": "python",
   "pygments_lexer": "ipython3",
   "version": "3.10.12"
  }
 },
 "nbformat": 4,
 "nbformat_minor": 5
}
