{
 "cells": [
  {
   "cell_type": "code",
   "execution_count": null,
   "id": "8d2c4ed1",
   "metadata": {
    "vscode": {
     "languageId": "markdown"
    }
   },
   "outputs": [],
   "source": [
    "```markdown\n",
    "# 867. Transpose Matrix\n",
    "\n",
    "**Difficulty:** Easy  \n",
    "**Topics:** Arrays, Matrix  \n",
    "**Companies:** -  \n",
    "**Hint:** -\n",
    "\n",
    "---\n",
    "\n",
    "## Problem Statement\n",
    "\n",
    "Given a 2D integer array `matrix`, return the transpose of `matrix`.\n",
    "\n",
    "The transpose of a matrix is the matrix flipped over its main diagonal, switching the matrix's row and column indices.\n",
    "\n",
    "---\n",
    "\n",
    "## Examples\n",
    "\n",
    "### Example 1:\n",
    "\n",
    "**Input:**  \n",
    "`matrix = [[1,2,3],[4,5,6],[7,8,9]]`  \n",
    "\n",
    "**Output:**  \n",
    "`[[1,4,7],[2,5,8],[3,6,9]]`\n",
    "\n",
    "---\n",
    "\n",
    "### Example 2:\n",
    "\n",
    "**Input:**  \n",
    "`matrix = [[1,2,3],[4,5,6]]`  \n",
    "\n",
    "**Output:**  \n",
    "`[[1,4],[2,5],[3,6]]`\n",
    "\n",
    "---\n",
    "\n",
    "## Constraints:\n",
    "\n",
    "- `m == matrix.length`\n",
    "- `n == matrix[i].length`\n",
    "- `1 <= m, n <= 1000`\n",
    "- `1 <= m * n <= 10^5`\n",
    "- `-10^9 <= matrix[i][j] <= 10^9`\n",
    "```"
   ]
  },
  {
   "cell_type": "code",
   "execution_count": null,
   "id": "641e616f",
   "metadata": {
    "vscode": {
     "languageId": "markdown"
    }
   },
   "outputs": [],
   "source": [
    "\n",
    "class Solution:\n",
    "    def transpose(self, matrix: List[List[int]]) -> List[List[int]]:\n",
    "        m, n = len(matrix), len(matrix[0])\n",
    "        transposed = [[0] * m for _ in range(n)]\n",
    "\n",
    "        for i in range(m):\n",
    "            for j in range(n):\n",
    "                transposed[j][i] = matrix[i][j]\n",
    "\n",
    "        return transposed"
   ]
  }
 ],
 "metadata": {
  "kernelspec": {
   "display_name": "Python 3",
   "language": "python",
   "name": "python3"
  },
  "language_info": {
   "name": "python",
   "version": "3.10.12"
  }
 },
 "nbformat": 4,
 "nbformat_minor": 5
}
