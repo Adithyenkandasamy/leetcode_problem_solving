{
 "cells": [
  {
   "cell_type": "code",
   "execution_count": null,
   "id": "32d28bd5",
   "metadata": {
    "vscode": {
     "languageId": "markdown"
    }
   },
   "outputs": [],
   "source": [
    "# 2000. Reverse Prefix of Word\n",
    "\n",
    "## Problem Description\n",
    "\n",
    "Given a 0-indexed string `word` and a character `ch`, reverse the segment of `word` that starts at index `0` and ends at the index of the first occurrence of `ch` (inclusive). If the character `ch` does not exist in `word`, do nothing.\n",
    "\n",
    "### Example\n",
    "\n",
    "#### Example 1:\n",
    "**Input:**  \n",
    "`word = \"abcdefd\"`, `ch = \"d\"`  \n",
    "**Output:**  \n",
    "`\"dcbaefd\"`  \n",
    "**Explanation:**  \n",
    "The first occurrence of `\"d\"` is at index `3`. Reverse the part of `word` from `0` to `3` (inclusive), the resulting string is `\"dcbaefd\"`.\n",
    "\n",
    "#### Example 2:\n",
    "**Input:**  \n",
    "`word = \"xyxzxe\"`, `ch = \"z\"`  \n",
    "**Output:**  \n",
    "`\"zxyxxe\"`  \n",
    "**Explanation:**  \n",
    "The first and only occurrence of `\"z\"` is at index `3`. Reverse the part of `word` from `0` to `3` (inclusive), the resulting string is `\"zxyxxe\"`.\n",
    "\n",
    "#### Example 3:\n",
    "**Input:**  \n",
    "`word = \"abcd\"`, `ch = \"z\"`  \n",
    "**Output:**  \n",
    "`\"abcd\"`  \n",
    "**Explanation:**  \n",
    "`\"z\"` does not exist in `word`. You should not do any reverse operation, the resulting string is `\"abcd\"`.\n",
    "\n",
    "---\n",
    "\n",
    "## Constraints\n",
    "\n",
    "- `1 <= word.length <= 250`\n",
    "- `word` consists of lowercase English letters.\n",
    "- `ch` is a lowercase English letter."
   ]
  },
  {
   "cell_type": "code",
   "execution_count": null,
   "id": "7a361947",
   "metadata": {},
   "outputs": [],
   "source": [
    "class Solution:\n",
    "    def reversePrefix(self, word: str, ch: str) -> str:\n",
    "        if not word.find(ch):\n",
    "            return word\n",
    "        else:\n",
    "            index = word.find(ch)\n",
    "            return word[:index + 1][::-1] + word[index + 1:]\n"
   ]
  },
  {
   "cell_type": "code",
   "execution_count": null,
   "id": "c6645e32",
   "metadata": {},
   "outputs": [],
   "source": [
    "s = Solution()\n",
    "while True:\n",
    "    print(s.reversePrefix(\"abcdefd\", \"d\"))  # \"dcbaefd\""
   ]
  }
 ],
 "metadata": {
  "kernelspec": {
   "display_name": "Python 3",
   "language": "python",
   "name": "python3"
  },
  "language_info": {
   "codemirror_mode": {
    "name": "ipython",
    "version": 3
   },
   "file_extension": ".py",
   "mimetype": "text/x-python",
   "name": "python",
   "nbconvert_exporter": "python",
   "pygments_lexer": "ipython3",
   "version": "3.10.12"
  }
 },
 "nbformat": 4,
 "nbformat_minor": 5
}
