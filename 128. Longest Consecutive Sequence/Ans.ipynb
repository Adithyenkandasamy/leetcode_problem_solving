{
 "cells": [
  {
   "cell_type": "markdown",
   "id": "c6808bca",
   "metadata": {},
   "source": [
    "128. Longest Consecutive Sequence\n",
    "Solved\n",
    "Medium\n",
    "Topics\n",
    "premium lock iconCompanies\n",
    "\n",
    "Given an unsorted array of integers nums, return the length of the longest consecutive elements sequence.\n",
    "\n",
    "You must write an algorithm that runs in O(n) time.\n",
    "\n",
    " \n",
    "\n",
    "Example 1:\n",
    "\n",
    "Input: nums = [100,4,200,1,3,2]\n",
    "Output: 4\n",
    "Explanation: The longest consecutive elements sequence is [1, 2, 3, 4]. Therefore its length is 4.\n",
    "\n",
    "Example 2:\n",
    "\n",
    "Input: nums = [0,3,7,2,5,8,4,6,0,1]\n",
    "Output: 9\n",
    "\n",
    "Example 3:\n",
    "\n",
    "Input: nums = [1,0,1,2]\n",
    "Output: 3\n",
    "\n",
    " \n",
    "\n",
    "Constraints:\n",
    "\n",
    "    0 <= nums.length <= 105\n",
    "    -109 <= nums[i] <= 109\n",
    "\n"
   ]
  },
  {
   "cell_type": "code",
   "execution_count": null,
   "id": "3e2aaef3",
   "metadata": {
    "vscode": {
     "languageId": "plaintext"
    }
   },
   "outputs": [],
   "source": [
    "class Solution:\n",
    "    def longestConsecutive(self, nums: List[int]) -> int:\n",
    "        \n",
    "        # remove duplicates and sort the array\n",
    "        sortednums = sorted(set(nums))\n",
    "        \n",
    "        # get the length of the array\n",
    "        lennums = len(sortednums)\n",
    "        \n",
    "        # initialize the count and longest streak\n",
    "        count, longest = 1, 1\n",
    "\n",
    "        # if the array is empty return 0\n",
    "        if lennums == 0:\n",
    "            return 0\n",
    "\n",
    "        # loop through the array\n",
    "        for i in range(1, lennums):\n",
    "\n",
    "            # if the current number is one more than the previous number, increment the count\n",
    "            if sortednums[i] == sortednums[i-1]+1:\n",
    "                count += 1\n",
    "                # update the longest streak\n",
    "                longest = max(longest, count)\n",
    "            # if the current number is not one more than the previous number, reset the count\n",
    "            else:\n",
    "                count = 1\n",
    "\n",
    "        # return the longest streak\n",
    "        return longest"
   ]
  }
 ],
 "metadata": {
  "language_info": {
   "name": "python"
  }
 },
 "nbformat": 4,
 "nbformat_minor": 5
}
