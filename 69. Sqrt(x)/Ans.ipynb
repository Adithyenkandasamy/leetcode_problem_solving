{
 "cells": [
  {
   "cell_type": "markdown",
   "id": "a0a6f53b",
   "metadata": {},
   "source": [
    "# 69. Sqrt(x)\n",
    "## Easy\n",
    "### Topics\n",
    "### Companies\n",
    "### Hint\n",
    "Given a non-negative integer x, return the square root of x rounded down to the nearest integer. The returned integer should be non-negative as well.\n",
    "\n",
    "You must not use any built-in exponent function or operator.\n",
    "\n",
    "For example, do not use pow(x, 0.5) in c++ or x ** 0.5 in python.\n",
    "\n",
    "Example 1:\n",
    "\n",
    "Input: x = 4\n",
    "Output: 2\n",
    "Explanation: The square root of 4 is 2, so we return 2.\n",
    "\n",
    "Example 2:\n",
    "\n",
    "Input: x = 8\n",
    "Output: 2\n",
    "Explanation: The square root of 8 is 2.82842..., and since we round it down to the nearest integer, 2 is returned.\n",
    "\n",
    "Constraints:\n",
    "\n",
    "* 0 <= x <= 231 - 1\n"
   ]
  },
  {
   "cell_type": "code",
   "execution_count": 12,
   "id": "898818aa",
   "metadata": {},
   "outputs": [],
   "source": [
    "class Solution:\n",
    "    def mySqrt(self, x: int) -> int:\n",
    "        l,r = 0,x\n",
    "        while l <= r:\n",
    "            m = l+(r-l)//2\n",
    "            square = m*m\n",
    "            if square == x:\n",
    "                return m\n",
    "            elif square < x:\n",
    "                l = m+1\n",
    "            else:\n",
    "                r = m-1\n",
    "        return r            "
   ]
  },
  {
   "cell_type": "code",
   "execution_count": 13,
   "id": "c1db5777",
   "metadata": {},
   "outputs": [
    {
     "data": {
      "text/plain": [
       "2"
      ]
     },
     "execution_count": 13,
     "metadata": {},
     "output_type": "execute_result"
    }
   ],
   "source": [
    "sol = Solution()\n",
    "sol.mySqrt(8)"
   ]
  }
 ],
 "metadata": {
  "kernelspec": {
   "display_name": "Python 3",
   "language": "python",
   "name": "python3"
  },
  "language_info": {
   "codemirror_mode": {
    "name": "ipython",
    "version": 3
   },
   "file_extension": ".py",
   "mimetype": "text/x-python",
   "name": "python",
   "nbconvert_exporter": "python",
   "pygments_lexer": "ipython3",
   "version": "3.10.12"
  }
 },
 "nbformat": 4,
 "nbformat_minor": 5
}
