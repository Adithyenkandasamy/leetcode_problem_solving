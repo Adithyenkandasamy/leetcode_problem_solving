{
 "cells": [
  {
   "cell_type": "markdown",
   "id": "e6ed9998",
   "metadata": {},
   "source": [
    "204. Count Primes\n",
    "Medium\n",
    "Topics\n",
    "premium lock iconCompanies\n",
    "Hint\n",
    "\n",
    "Given an integer n, return the number of prime numbers that are strictly less than n.\n",
    "\n",
    " \n",
    "\n",
    "Example 1:\n",
    "\n",
    "Input: n = 10\n",
    "Output: 4\n",
    "Explanation: There are 4 prime numbers less than 10, they are 2, 3, 5, 7.\n",
    "\n",
    "Example 2:\n",
    "\n",
    "Input: n = 0\n",
    "Output: 0\n",
    "\n",
    "Example 3:\n",
    "\n",
    "Input: n = 1\n",
    "Output: 0\n",
    "\n",
    " \n",
    "\n",
    "Constraints:\n",
    "\n",
    "    0 <= n <= 5 * 106\n",
    "\n",
    ";-\n",
    "        \"\"\"\n",
    "        Count the number of prime numbers less than a non-negative number, n.\n",
    "\n",
    "        This function uses the Sieve of Eratosthenes algorithm, which is an\n",
    "        ancient algorithm used to find all primes smaller than a given number n.\n",
    "        It works by iteratively marking the multiples of each prime number\n",
    "        starting from 2. The multiples of a given prime are generated as a\n",
    "        sequence of numbers starting from that prime, with a difference between\n",
    "        them that is equal to that prime. This is the key distinction between the\n",
    "        Sieve of Eratosthenes and using trial division to sequentially test each\n",
    "        candidate number for divisibility by each prime.\n",
    "\n",
    "        The time complexity of this algorithm is O(n log log n) and the space\n",
    "        complexity is O(n).\n",
    "\n",
    "        :param n: a non-negative number\n",
    "        :return: the number of prime numbers less than n"
   ]
  },
  {
   "cell_type": "code",
   "execution_count": 15,
   "id": "9eb8a9b4",
   "metadata": {},
   "outputs": [],
   "source": [
    "class Solution:\n",
    "    def countPrimes(self, n: int) -> int:\n",
    "        arr = [1] * n\n",
    "\n",
    "        if n == 0 or n == 1:\n",
    "            return 0\n",
    "\n",
    "        arr[0], arr[1] = 0,0\n",
    "\n",
    "        for i in range(2, int(n ** 0.5) + 1):\n",
    "            for j in range(i + i, n, i):\n",
    "                arr[j] = 0\n",
    "\n",
    "        return sum(arr)"
   ]
  },
  {
   "cell_type": "code",
   "execution_count": 16,
   "id": "985017a1",
   "metadata": {},
   "outputs": [
    {
     "data": {
      "text/plain": [
       "4"
      ]
     },
     "execution_count": 16,
     "metadata": {},
     "output_type": "execute_result"
    }
   ],
   "source": [
    "s = Solution()\n",
    "s.countPrimes(10)"
   ]
  },
  {
   "cell_type": "code",
   "execution_count": null,
   "id": "a2165af5",
   "metadata": {},
   "outputs": [],
   "source": []
  }
 ],
 "metadata": {
  "kernelspec": {
   "display_name": "Python 3",
   "language": "python",
   "name": "python3"
  },
  "language_info": {
   "codemirror_mode": {
    "name": "ipython",
    "version": 3
   },
   "file_extension": ".py",
   "mimetype": "text/x-python",
   "name": "python",
   "nbconvert_exporter": "python",
   "pygments_lexer": "ipython3",
   "version": "3.10.12"
  }
 },
 "nbformat": 4,
 "nbformat_minor": 5
}
