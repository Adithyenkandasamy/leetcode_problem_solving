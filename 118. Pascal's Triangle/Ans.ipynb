{
 "cells": [
  {
   "cell_type": "markdown",
   "id": "28a8382d",
   "metadata": {},
   "source": [
    "118. Pascal's Triangle\n",
    "Easy\n",
    "Topics\n",
    "premium lock iconCompanies\n",
    "\n",
    "Given an integer numRows, return the first numRows of Pascal's triangle.\n",
    "\n",
    "In Pascal's triangle, each number is the sum of the two numbers directly above it as shown:\n",
    "\n",
    "![alt text](https://upload.wikimedia.org/wikipedia/commons/0/0d/PascalTriangleAnimated2.gif)\n",
    "\n",
    "Example 1:\n",
    "\n",
    "Input: numRows = 5\n",
    "Output: [[1],[1,1],[1,2,1],[1,3,3,1],[1,4,6,4,1]]\n",
    "\n",
    "Example 2:\n",
    "\n",
    "Input: numRows = 1\n",
    "Output: [[1]]\n",
    "\n",
    " \n",
    "\n",
    "Constraints:\n",
    "\n",
    "    1 <= numRows <= 30\n",
    "\n"
   ]
  },
  {
   "cell_type": "code",
   "execution_count": null,
   "id": "22d5effc",
   "metadata": {
    "vscode": {
     "languageId": "plaintext"
    }
   },
   "outputs": [],
   "source": [
    "from typing import List\n",
    "\n",
    "class Solution:\n",
    "    def generate(self, numRows: int) -> List[List[int]]:\n",
    "        if numRows <= 0:\n",
    "            return []\n",
    "        \n",
    "        first_row = [1]\n",
    "        rows = [first_row]\n",
    "\n",
    "        for _ in range(1, numRows):\n",
    "            row = [1]  # Every row starts with 1\n",
    "            # Generate intermediate values based on the previous row\n",
    "            for i in range(1, len(rows[-1])):\n",
    "                num = rows[-1][i - 1] + rows[-1][i]\n",
    "                row.append(num)\n",
    "            row.append(1)  # Every row ends with 1\n",
    "            rows.append(row)\n",
    "\n",
    "        return rows\n"
   ]
  }
 ],
 "metadata": {
  "language_info": {
   "name": "python"
  }
 },
 "nbformat": 4,
 "nbformat_minor": 5
}
