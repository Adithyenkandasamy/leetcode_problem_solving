{
 "cells": [
  {
   "cell_type": "markdown",
   "id": "99a7c3ad",
   "metadata": {},
   "source": [
    "## 2200. Find All K-Distant Indices in an Array\n",
    "\n",
    "**Easy**\n",
    "\n",
    "You are given a 0-indexed integer array `nums` and two integers `key` and `k`.  \n",
    "A **k-distant index** is an index `i` of `nums` for which there exists **at least one index `j`** such that:\n",
    "\n",
    "```\n",
    "|i - j| <= k  and  nums[j] == key\n",
    "```\n",
    "\n",
    "Return a **list of all k-distant indices sorted in increasing order**.\n",
    "\n",
    "---\n",
    "\n",
    "### Example 1:\n",
    "\n",
    "**Input:**\n",
    "```text\n",
    "nums = [3,4,9,1,3,9,5], key = 9, k = 1\n",
    "```\n",
    "\n",
    "**Output:**\n",
    "```text\n",
    "[1,2,3,4,5,6]\n",
    "```\n",
    "\n",
    "**Explanation:**\n",
    "- `nums[2] == key` and `nums[5] == key`\n",
    "- For index `0`: `|0 - 2| > k` and `|0 - 5| > k`, so 0 is **not** a k-distant index.\n",
    "- For index `1`: `|1 - 2| <= k`, so 1 **is** a k-distant index.\n",
    "- Index `2`: `|2 - 2| <= k` → **yes**\n",
    "- Index `3`: `|3 - 2| <= k` → **yes**\n",
    "- Index `4`: `|4 - 5| <= k` → **yes**\n",
    "- Index `5`: `|5 - 5| <= k` → **yes**\n",
    "- Index `6`: `|6 - 5| <= k` → **yes**\n",
    "\n",
    "So, return `[1, 2, 3, 4, 5, 6]`.\n",
    "\n",
    "---\n",
    "\n",
    "### Example 2:\n",
    "\n",
    "**Input:**\n",
    "```text\n",
    "nums = [2,2,2,2,2], key = 2, k = 2\n",
    "```\n",
    "\n",
    "**Output:**\n",
    "```text\n",
    "[0,1,2,3,4]\n",
    "```\n",
    "\n",
    "**Explanation:**  \n",
    "For all indices `i` in `nums`, there exists some index `j` such that `|i - j| <= k` and `nums[j] == key`.  \n",
    "So every index is a k-distant index.\n",
    "\n",
    "---\n",
    "\n",
    "### Constraints:\n",
    "\n",
    "- `1 <= nums.length <= 1000`\n",
    "- `1 <= nums[i] <= 1000`\n",
    "- `key` is an integer from the array `nums`\n",
    "- `1 <= k <= nums.length`"
   ]
  },
  {
   "cell_type": "code",
   "execution_count": 1,
   "id": "db3813dd",
   "metadata": {},
   "outputs": [],
   "source": [
    "from typing import List"
   ]
  },
  {
   "cell_type": "code",
   "execution_count": null,
   "id": "349c0863",
   "metadata": {},
   "outputs": [],
   "source": [
    "def findKDistantIndices(nums: List[int], key: int, k: int) -> List[int]:\n",
    "    "
   ]
  }
 ],
 "metadata": {
  "kernelspec": {
   "display_name": "Python 3",
   "language": "python",
   "name": "python3"
  },
  "language_info": {
   "codemirror_mode": {
    "name": "ipython",
    "version": 3
   },
   "file_extension": ".py",
   "mimetype": "text/x-python",
   "name": "python",
   "nbconvert_exporter": "python",
   "pygments_lexer": "ipython3",
   "version": "3.10.12"
  }
 },
 "nbformat": 4,
 "nbformat_minor": 5
}
