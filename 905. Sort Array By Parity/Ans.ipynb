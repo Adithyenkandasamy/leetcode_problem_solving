{
 "cells": [
  {
   "cell_type": "markdown",
   "id": "0ab505bd",
   "metadata": {},
   "source": [
    "```markdown\n",
    "# 905. Sort Array By Parity\n",
    "\n",
    "**Difficulty:** Easy  \n",
    "**Topics:** Arrays  \n",
    "\n",
    "---\n",
    "\n",
    "Given an integer array `nums`, move all the even integers to the beginning of the array followed by all the odd integers.\n",
    "\n",
    "Return any array that satisfies this condition.\n",
    "\n",
    "---\n",
    "\n",
    "## Example 1:\n",
    "\n",
    "**Input:**  \n",
    "`nums = [3,1,2,4]`  \n",
    "\n",
    "**Output:**  \n",
    "`[2,4,3,1]`  \n",
    "\n",
    "**Explanation:**  \n",
    "The outputs `[4,2,3,1]`, `[2,4,1,3]`, and `[4,2,1,3]` would also be accepted.\n",
    "\n",
    "---\n",
    "\n",
    "## Example 2:\n",
    "\n",
    "**Input:**  \n",
    "`nums = [0]`  \n",
    "\n",
    "**Output:**  \n",
    "`[0]`  \n",
    "\n",
    "---\n",
    "\n",
    "## Constraints:\n",
    "\n",
    "- `1 <= nums.length <= 5000`\n",
    "- `0 <= nums[i] <= 5000`\n",
    "```"
   ]
  },
  {
   "cell_type": "code",
   "execution_count": 2,
   "id": "5e022fc6",
   "metadata": {},
   "outputs": [],
   "source": [
    "nums = [3,1,2,4]\n",
    "from typing import List"
   ]
  },
  {
   "cell_type": "code",
   "execution_count": 6,
   "id": "6770b331",
   "metadata": {},
   "outputs": [],
   "source": [
    "def sortArrayByParity( nums: List[int]) -> List[int]:\n",
    "    n = len(nums)\n",
    "    for i in range(n):\n",
    "        for j in range(i+1,n):\n",
    "            if nums[i] % 2 == 1:\n",
    "                    nums[i], nums[j] = nums[j], nums[i]\n",
    "    return nums            "
   ]
  },
  {
   "cell_type": "code",
   "execution_count": 7,
   "id": "b6e175e9",
   "metadata": {},
   "outputs": [
    {
     "name": "stdout",
     "output_type": "stream",
     "text": [
      "[4, 2, 1, 3]\n"
     ]
    }
   ],
   "source": [
    "print(sortArrayByParity(nums))    "
   ]
  }
 ],
 "metadata": {
  "kernelspec": {
   "display_name": "Python 3",
   "language": "python",
   "name": "python3"
  },
  "language_info": {
   "codemirror_mode": {
    "name": "ipython",
    "version": 3
   },
   "file_extension": ".py",
   "mimetype": "text/x-python",
   "name": "python",
   "nbconvert_exporter": "python",
   "pygments_lexer": "ipython3",
   "version": "3.10.12"
  }
 },
 "nbformat": 4,
 "nbformat_minor": 5
}
