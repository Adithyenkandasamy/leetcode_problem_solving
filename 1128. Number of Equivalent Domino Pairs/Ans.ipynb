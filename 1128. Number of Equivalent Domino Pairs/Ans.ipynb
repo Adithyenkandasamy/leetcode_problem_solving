{
 "cells": [
  {
   "cell_type": "code",
   "execution_count": null,
   "id": "c77f133c",
   "metadata": {
    "vscode": {
     "languageId": "markdown"
    }
   },
   "outputs": [],
   "source": [
    "# 1128. Number of Equivalent Domino Pairs\n",
    "\n",
    "**Difficulty**: Easy  \n",
    "**Topics**: Array, Hash Table  \n",
    "**Companies**: -  \n",
    "\n",
    "---\n",
    "\n",
    "## Problem Statement\n",
    "\n",
    "Given a list of dominoes, `dominoes[i] = [a, b]` is equivalent to `dominoes[j] = [c, d]` if and only if either `(a == c and b == d)`, or `(a == d and b == c)` - that is, one domino can be rotated to be equal to another domino.\n",
    "\n",
    "Return the number of pairs `(i, j)` for which `0 <= i < j < dominoes.length`, and `dominoes[i]` is equivalent to `dominoes[j]`.\n",
    "\n",
    "---\n",
    "\n",
    "## Examples\n",
    "\n",
    "### Example 1:\n",
    "**Input**:  \n",
    "`dominoes = [[1,2],[2,1],[3,4],[5,6]]`  \n",
    "**Output**:  \n",
    "`1`\n",
    "\n",
    "### Example 2:\n",
    "**Input**:  \n",
    "`dominoes = [[1,2],[1,2],[1,1],[1,2],[2,2]]`  \n",
    "**Output**:  \n",
    "`3`\n",
    "\n",
    "---\n",
    "\n",
    "## Constraints:\n",
    "- `1 <= dominoes.length <= 4 * 10^4`\n",
    "- `dominoes[i].length == 2`\n",
    "- `1 <= dominoes[i][j] <= 9`"
   ]
  },
  {
   "cell_type": "code",
   "execution_count": null,
   "id": "1b342faa",
   "metadata": {},
   "outputs": [],
   "source": [
    "from typing import List\n",
    "from collections import defaultdict\n",
    "class Solution:\n",
    "    def numEquivDominoPairs(self, dominoes: List[List[int]]) -> int:\n",
    "        count_map = defaultdict(int)\n",
    "        count = 0\n",
    "        for a, b in dominoes:\n",
    "            key = tuple(sorted((a, b)))\n",
    "            count += count_map[key]\n",
    "            count_map[key] += 1\n",
    "            "
   ]
  },
  {
   "cell_type": "code",
   "execution_count": 38,
   "id": "0d495767",
   "metadata": {},
   "outputs": [
    {
     "name": "stdout",
     "output_type": "stream",
     "text": [
      "Processing domino: (1, 2)\n",
      "Domino: (1, 2), Key: (1, 2), Count: 1\n",
      "Processing domino: (2, 1)\n",
      "Domino: (2, 1), Key: (1, 2), Count: 2\n",
      "Processing domino: (3, 4)\n",
      "Domino: (3, 4), Key: (3, 4), Count: 1\n",
      "Processing domino: (5, 6)\n",
      "Domino: (5, 6), Key: (5, 6), Count: 1\n",
      "None\n"
     ]
    }
   ],
   "source": [
    "s = Solution()  \n",
    "dominoes = [[1,2],[2,1],[3,4],[5,6]]\n",
    "print(s.numEquivDominoPairs(dominoes)) \n",
    "\n"
   ]
  },
  {
   "cell_type": "code",
   "execution_count": null,
   "id": "168a4ab2",
   "metadata": {},
   "outputs": [],
   "source": []
  }
 ],
 "metadata": {
  "kernelspec": {
   "display_name": "Python 3",
   "language": "python",
   "name": "python3"
  },
  "language_info": {
   "codemirror_mode": {
    "name": "ipython",
    "version": 3
   },
   "file_extension": ".py",
   "mimetype": "text/x-python",
   "name": "python",
   "nbconvert_exporter": "python",
   "pygments_lexer": "ipython3",
   "version": "3.10.12"
  }
 },
 "nbformat": 4,
 "nbformat_minor": 5
}
