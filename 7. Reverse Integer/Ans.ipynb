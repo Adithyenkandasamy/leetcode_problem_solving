{
 "cells": [
  {
   "cell_type": "markdown",
   "id": "e37df538",
   "metadata": {},
   "source": [
    "# 7. Reverse Integer\n",
    "\n",
    "**Status:** Solved  \n",
    "**Difficulty:** Medium  \n",
    "\n",
    "## Topics  \n",
    "- Algorithms  \n",
    "\n",
    "## Problem Statement  \n",
    "\n",
    "Given a signed 32-bit integer `x`, return `x` with its digits reversed. If reversing `x` causes the value to go outside the signed 32-bit integer range `[-2^31, 2^31 - 1]`, then return `0`.\n",
    "\n",
    "Assume the environment does not allow you to store 64-bit integers (signed or unsigned).\n",
    "\n",
    "---\n",
    "\n",
    "### Example 1:\n",
    "**Input:**  \n",
    "`x = 123`  \n",
    "**Output:**  \n",
    "`321`  \n",
    "\n",
    "### Example 2:\n",
    "**Input:**  \n",
    "`x = -123`  \n",
    "**Output:**  \n",
    "`-321`  \n",
    "\n",
    "### Example 3:\n",
    "**Input:**  \n",
    "`x = 120`  \n",
    "**Output:**  \n",
    "`21`  \n",
    "\n",
    "---\n",
    "\n",
    "## Constraints:\n",
    "- `-2^31 <= x <= 2^31 - 1`\n"
   ]
  },
  {
   "cell_type": "code",
   "execution_count": 3,
   "id": "31b9530d",
   "metadata": {},
   "outputs": [],
   "source": [
    "def reversenum( x: int) -> int:\n",
    "        int_min = -2**31\n",
    "        int_max = 2**31-1\n",
    "        if x > 0:\n",
    "            res = 0\n",
    "            while x != 0:\n",
    "                y = x%10\n",
    "                x = x//10\n",
    "                res = res*10 +y\n",
    "                if res>int_max:\n",
    "                    return 0\n",
    "            return res    \n",
    "        else:\n",
    "            x = x*-1\n",
    "            res = 0\n",
    "            while x != 0:\n",
    "                y = x%10\n",
    "                x = x//10\n",
    "                res = res*10+y\n",
    "                if -res<int_min:\n",
    "                    return 0\n",
    "            return res*-1 "
   ]
  },
  {
   "cell_type": "code",
   "execution_count": 4,
   "id": "867bfad3",
   "metadata": {},
   "outputs": [
    {
     "name": "stdout",
     "output_type": "stream",
     "text": [
      "321\n"
     ]
    }
   ],
   "source": [
    "x = reversenum(123)\n",
    "print(x)"
   ]
  }
 ],
 "metadata": {
  "kernelspec": {
   "display_name": "Python 3",
   "language": "python",
   "name": "python3"
  },
  "language_info": {
   "codemirror_mode": {
    "name": "ipython",
    "version": 3
   },
   "file_extension": ".py",
   "mimetype": "text/x-python",
   "name": "python",
   "nbconvert_exporter": "python",
   "pygments_lexer": "ipython3",
   "version": "3.10.12"
  }
 },
 "nbformat": 4,
 "nbformat_minor": 5
}
