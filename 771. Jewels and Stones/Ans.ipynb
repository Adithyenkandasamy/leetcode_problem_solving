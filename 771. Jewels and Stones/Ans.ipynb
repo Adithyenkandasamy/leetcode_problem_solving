{
 "cells": [
  {
   "cell_type": "markdown",
   "id": "77d697b1",
   "metadata": {},
   "source": [
    "```markdown\n",
    "# 771. Jewels and Stones\n",
    "\n",
    "**Difficulty:** Easy  \n",
    "**Status:** Solved  \n",
    "\n",
    "## Problem Description\n",
    "\n",
    "You're given strings `jewels` representing the types of stones that are jewels, and `stones` representing the stones you have. Each character in `stones` is a type of stone you have. You want to know how many of the stones you have are also jewels.\n",
    "\n",
    "Letters are case sensitive, so \"a\" is considered a different type of stone from \"A\".\n",
    "\n",
    "---\n",
    "\n",
    "## Examples\n",
    "\n",
    "### Example 1:\n",
    "**Input:**  \n",
    "`jewels = \"aA\"`  \n",
    "`stones = \"aAAbbbb\"`  \n",
    "**Output:**  \n",
    "`3`\n",
    "\n",
    "### Example 2:\n",
    "**Input:**  \n",
    "`jewels = \"z\"`  \n",
    "`stones = \"ZZ\"`  \n",
    "**Output:**  \n",
    "`0`\n",
    "\n",
    "---\n",
    "\n",
    "## Constraints\n",
    "\n",
    "- `1 <= jewels.length, stones.length <= 50`\n",
    "- `jewels` and `stones` consist of only English letters.\n",
    "- All the characters of `jewels` are unique.\n",
    "```"
   ]
  },
  {
   "cell_type": "code",
   "execution_count": 1,
   "id": "d70f89c7",
   "metadata": {},
   "outputs": [
    {
     "name": "stdout",
     "output_type": "stream",
     "text": [
      "3\n"
     ]
    }
   ],
   "source": [
    "class Solution:\n",
    "    def numJewelsInStones(self, jewels: str, stones: str) -> int:\n",
    "        count = 0\n",
    "        for i in jewels:\n",
    "            for j in stones:\n",
    "                if i == j:\n",
    "                    count += 1    \n",
    "        return count \n",
    "jewels = \"aA\"\n",
    "stones = \"aAAbbb\"\n",
    "s = Solution()\n",
    "print(s.numJewelsInStones(jewels,stones)) "
   ]
  }
 ],
 "metadata": {
  "kernelspec": {
   "display_name": "Python 3",
   "language": "python",
   "name": "python3"
  },
  "language_info": {
   "codemirror_mode": {
    "name": "ipython",
    "version": 3
   },
   "file_extension": ".py",
   "mimetype": "text/x-python",
   "name": "python",
   "nbconvert_exporter": "python",
   "pygments_lexer": "ipython3",
   "version": "3.10.12"
  }
 },
 "nbformat": 4,
 "nbformat_minor": 5
}
