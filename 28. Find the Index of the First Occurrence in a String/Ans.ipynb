{
 "cells": [
  {
   "cell_type": "markdown",
   "metadata": {},
   "source": [
    "# 28. Find the Index of the First Occurrence in a String\n",
    "\n",
    "**Difficulty:** Easy  \n",
    "**Topics:** Strings  \n",
    "**Companies:** (LeetCode)\n",
    "\n",
    "---\n",
    "\n",
    "Given two strings `needle` and `haystack`, return the index of the first occurrence of `needle` in `haystack`, or `-1` if `needle` is not part of `haystack`.\n",
    "\n",
    "---\n",
    "\n",
    "## Example 1:\n",
    "\n",
    "**Input:**  \n",
    "haystack = \"sadbutsad\"  \n",
    "needle = \"sad\"\n",
    "\n",
    "**Output:**  \n",
    "0\n",
    "\n",
    "**Explanation:**  \n",
    "\"sad\" occurs at index 0 and 6. The first occurrence is at index 0, so we return 0.\n",
    "\n",
    "---\n",
    "\n",
    "## Example 2:\n",
    "\n",
    "**Input:**  \n",
    "haystack = \"leetcode\"  \n",
    "needle = \"leeto\"\n",
    "\n",
    "**Output:**  \n",
    "-1\n",
    "\n",
    "**Explanation:**  \n",
    "\"leeto\" did not occur in \"leetcode\", so we return -1.\n",
    "\n",
    "---\n",
    "\n",
    "## Constraints\n",
    "\n",
    "- 1 <= haystack.length, needle.length <= 10⁴\n",
    "- haystack and needle consist of only lowercase English characters.\n"
   ]
  },
  {
   "cell_type": "code",
   "execution_count": null,
   "metadata": {},
   "outputs": [
    {
     "ename": "",
     "evalue": "",
     "output_type": "error",
     "traceback": [
      "\u001b[1;31mRunning cells with 'Python 3.10.12' requires the ipykernel package.\n",
      "\u001b[1;31m<a href='command:jupyter.createPythonEnvAndSelectController'>Create a Python Environment</a> with the required packages."
     ]
    }
   ],
   "source": [
    "def strStr(haystack: str, needle: str) -> int:\n",
    "    if needle in haystack:\n",
    "        return haystack.find(needle)\n",
    "    else:\n",
    "        return -1\n"
   ]
  },
  {
   "cell_type": "code",
   "execution_count": 17,
   "metadata": {},
   "outputs": [
    {
     "name": "stdout",
     "output_type": "stream",
     "text": [
      "2\n"
     ]
    }
   ],
   "source": [
    "x = strStr(\"hello\", \"ll\")\n",
    "print(x)"
   ]
  }
 ],
 "metadata": {
  "kernelspec": {
   "display_name": ".venv",
   "language": "python",
   "name": "python3"
  },
  "language_info": {
   "codemirror_mode": {
    "name": "ipython",
    "version": 3
   },
   "file_extension": ".py",
   "mimetype": "text/x-python",
   "name": "python",
   "nbconvert_exporter": "python",
   "pygments_lexer": "ipython3",
   "version": "3.10.12"
  }
 },
 "nbformat": 4,
 "nbformat_minor": 2
}
