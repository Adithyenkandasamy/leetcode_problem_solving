{
 "cells": [
  {
   "cell_type": "markdown",
   "id": "8fe8ac2f",
   "metadata": {},
   "source": [
    "1717. Maximum Score From Removing Substrings\n",
    "Solved\n",
    "Medium\n",
    "Topics\n",
    "premium lock iconCompanies\n",
    "Hint\n",
    "\n",
    "You are given a string s and two integers x and y. You can perform two types of operations any number of times.\n",
    "\n",
    "    Remove substring \"ab\" and gain x points.\n",
    "        For example, when removing \"ab\" from \"cabxbae\" it becomes \"cxbae\".\n",
    "    Remove substring \"ba\" and gain y points.\n",
    "        For example, when removing \"ba\" from \"cabxbae\" it becomes \"cabxe\".\n",
    "\n",
    "Return the maximum points you can gain after applying the above operations on s.\n",
    "\n",
    " \n",
    "\n",
    "Example 1:\n",
    "\n",
    "Input: s = \"cdbcbbaaabab\", x = 4, y = 5\n",
    "Output: 19\n",
    "Explanation:\n",
    "- Remove the \"ba\" underlined in \"cdbcbbaaabab\". Now, s = \"cdbcbbaaab\" and 5 points are added to the score.\n",
    "- Remove the \"ab\" underlined in \"cdbcbbaaab\". Now, s = \"cdbcbbaa\" and 4 points are added to the score.\n",
    "- Remove the \"ba\" underlined in \"cdbcbbaa\". Now, s = \"cdbcba\" and 5 points are added to the score.\n",
    "- Remove the \"ba\" underlined in \"cdbcba\". Now, s = \"cdbc\" and 5 points are added to the score.\n",
    "Total score = 5 + 4 + 5 + 5 = 19.\n",
    "\n",
    "Example 2:\n",
    "\n",
    "Input: s = \"aabbaaxybbaabb\", x = 5, y = 4\n",
    "Output: 20\n",
    "\n",
    " \n",
    "\n",
    "Constraints:\n",
    "\n",
    "    1 <= s.length <= 105\n",
    "    1 <= x, y <= 104\n",
    "    s consists of lowercase English letters.\n",
    "\n"
   ]
  },
  {
   "cell_type": "code",
   "execution_count": null,
   "id": "7a7532a3",
   "metadata": {
    "vscode": {
     "languageId": "plaintext"
    }
   },
   "outputs": [],
   "source": [
    "class Solution:\n",
    "    def maximumGain(self, s: str, x: int, y: int) -> int:\n",
    "        def remove(s, a, b, score):\n",
    "            stack = []\n",
    "            total = 0\n",
    "            for ch in s:\n",
    "                if stack and stack[-1] == a and ch == b:\n",
    "                    stack.pop()\n",
    "                    total += score\n",
    "                else:\n",
    "                    stack.append(ch)\n",
    "            return \"\".join(stack), total\n",
    "\n",
    "        if x > y:\n",
    "            s, gain1 = remove(s, 'a', 'b', x)\n",
    "            s, gain2 = remove(s, 'b', 'a', y)\n",
    "        else:\n",
    "            s, gain1 = remove(s, 'b', 'a', y)\n",
    "            s, gain2 = remove(s, 'a', 'b', x)\n",
    "\n",
    "        return gain1 + gain2\n",
    "\n"
   ]
  }
 ],
 "metadata": {
  "language_info": {
   "name": "python"
  }
 },
 "nbformat": 4,
 "nbformat_minor": 5
}
