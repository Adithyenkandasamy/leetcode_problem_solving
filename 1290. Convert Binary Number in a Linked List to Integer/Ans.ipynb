{
 "cells": [
  {
   "cell_type": "code",
   "execution_count": null,
   "id": "1fda40b1",
   "metadata": {
    "vscode": {
     "languageId": "markdown"
    }
   },
   "outputs": [],
   "source": [
    "# 1290. Convert Binary Number in a Linked List to Integer\n",
    "\n",
    "**Solved**  \n",
    "**Easy**  \n",
    "\n",
    "---\n",
    "\n",
    "## Problem Description\n",
    "\n",
    "Given `head`, which is a reference node to a singly-linked list. The value of each node in the linked list is either `0` or `1`. The linked list holds the binary representation of a number.\n",
    "\n",
    "Return the decimal value of the number in the linked list.\n",
    "\n",
    "The most significant bit is at the head of the linked list.\n",
    "\n",
    "---\n",
    "\n",
    "## Examples\n",
    "\n",
    "### Example 1:\n",
    "**Input:**  \n",
    "`head = [1,0,1]`  \n",
    "**Output:**  \n",
    "`5`  \n",
    "![alt text](https://assets.leetcode.com/uploads/2019/12/05/graph-1.png)\n",
    "**Explanation:**  \n",
    "`(101)` in base 2 = `(5)` in base 10.\n",
    "\n",
    "---\n",
    "\n",
    "### Example 2\n",
    "**Input:**  \n",
    "`head = [0]`  \n",
    "**Output:**  \n",
    "`0`  \n",
    "\n",
    "---\n",
    "\n",
    "## Constraints:\n",
    "- The Linked List is not empty.\n",
    "- Number of nodes will not exceed `30`.\n",
    "- Each node's value is either `0` or `1`."
   ]
  },
  {
   "cell_type": "code",
   "execution_count": null,
   "id": "8c920b86",
   "metadata": {
    "vscode": {
     "languageId": "markdown"
    }
   },
   "outputs": [],
   "source": [
    "class Solution(object):\n",
    "    def getDecimalValue(self, head):\n",
    "        num = \"\"\n",
    "        while head:\n",
    "            num += str(head.val)\n",
    "            head = head.next\n",
    "        return int(num, 2)"
   ]
  }
 ],
 "metadata": {
  "language_info": {
   "name": "python"
  }
 },
 "nbformat": 4,
 "nbformat_minor": 5
}
