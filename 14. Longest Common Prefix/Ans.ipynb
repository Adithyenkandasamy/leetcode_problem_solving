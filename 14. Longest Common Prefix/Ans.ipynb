{
 "cells": [
  {
   "cell_type": "markdown",
   "id": "6dc68c61",
   "metadata": {},
   "source": [
    "```markdown\n",
    "### 14. Longest Common Prefix\n",
    "\n",
    "**Difficulty:** Easy  \n",
    "**Topics:** Strings  \n",
    "\n",
    "---\n",
    "\n",
    "#### Problem Statement\n",
    "\n",
    "Write a function to find the longest common prefix string amongst an array of strings.\n",
    "\n",
    "If there is no common prefix, return an empty string `\"\"`.\n",
    "\n",
    "---\n",
    "\n",
    "#### Examples\n",
    "\n",
    "**Example 1:**\n",
    "\n",
    "Input:  \n",
    "`strs = [\"flower\", \"flow\", \"flight\"]`  \n",
    "Output:  \n",
    "`\"fl\"`\n",
    "\n",
    "**Example 2:**\n",
    "\n",
    "Input:  \n",
    "`strs = [\"dog\", \"racecar\", \"car\"]`  \n",
    "Output:  \n",
    "`\"\"`  \n",
    "Explanation: There is no common prefix among the input strings.\n",
    "\n",
    "---\n",
    "\n",
    "#### Constraints\n",
    "\n",
    "- `1 <= strs.length <= 200`\n",
    "- `0 <= strs[i].length <= 200`\n",
    "- `strs[i]` consists of only lowercase English letters if it is non-empty.\n",
    "```"
   ]
  },
  {
   "cell_type": "code",
   "execution_count": 9,
   "id": "9de6275f",
   "metadata": {},
   "outputs": [],
   "source": [
    "from typing import List\n",
    "class Solution:\n",
    "    def longestCommonPrefix(self, v: List[str]) -> str:\n",
    "        ans=\"\"\n",
    "        v=sorted(v)\n",
    "        first=v[0]\n",
    "        last=v[-1]\n",
    "        for i in range(min(len(first),len(last))):\n",
    "            if(first[i]!=last[i]):\n",
    "                return ans\n",
    "            ans+=first[i]\n",
    "        return ans"
   ]
  },
  {
   "cell_type": "code",
   "execution_count": 11,
   "id": "9c0a967e",
   "metadata": {},
   "outputs": [
    {
     "name": "stdout",
     "output_type": "stream",
     "text": [
      "fl\n"
     ]
    }
   ],
   "source": [
    "s = Solution()\n",
    "print(s.longestCommonPrefix([\"flower\",\"flow\",\"flight\"]))\n"
   ]
  },
  {
   "cell_type": "code",
   "execution_count": null,
   "id": "b75c4089",
   "metadata": {},
   "outputs": [],
   "source": []
  }
 ],
 "metadata": {
  "kernelspec": {
   "display_name": "Python 3",
   "language": "python",
   "name": "python3"
  },
  "language_info": {
   "codemirror_mode": {
    "name": "ipython",
    "version": 3
   },
   "file_extension": ".py",
   "mimetype": "text/x-python",
   "name": "python",
   "nbconvert_exporter": "python",
   "pygments_lexer": "ipython3",
   "version": "3.10.12"
  }
 },
 "nbformat": 4,
 "nbformat_minor": 5
}
