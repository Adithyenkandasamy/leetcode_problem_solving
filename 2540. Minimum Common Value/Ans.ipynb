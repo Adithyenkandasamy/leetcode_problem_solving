{
 "cells": [
  {
   "cell_type": "markdown",
   "id": "0e68d0ce",
   "metadata": {},
   "source": [
    "2540. Minimum Common Value\n",
    "Easy\n",
    "Topics\n",
    "Companies\n",
    "Hint\n",
    "\n",
    "Given two integer arrays nums1 and nums2, sorted in non-decreasing order, return the minimum integer common to both arrays. If there is no common integer amongst nums1 and nums2, return -1.\n",
    "\n",
    "Note that an integer is said to be common to nums1 and nums2 if both arrays have at least one occurrence of that integer.\n",
    "\n",
    " \n",
    "\n",
    "Example 1:\n",
    "\n",
    "Input: nums1 = [1,2,3], nums2 = [2,4]\n",
    "Output: 2\n",
    "Explanation: The smallest element common to both arrays is 2, so we return 2.\n",
    "\n",
    "Example 2:\n",
    "\n",
    "Input: nums1 = [1,2,3,6], nums2 = [2,3,4,5]\n",
    "Output: 2\n",
    "Explanation: There are two common elements in the array 2 and 3 out of which 2 is the smallest, so 2 is returned.\n",
    "\n",
    " \n",
    "\n",
    "Constraints:\n",
    "\n",
    "    1 <= nums1.length, nums2.length <= 105\n",
    "    1 <= nums1[i], nums2[j] <= 109\n",
    "    Both nums1 and nums2 are sorted in non-decreasing order.\n",
    "\n"
   ]
  },
  {
   "cell_type": "code",
   "execution_count": 6,
   "id": "3ad4b0b8",
   "metadata": {},
   "outputs": [],
   "source": [
    "nums1 = [1,2,3,6]\n",
    "nums2 = [2,3,4,5]"
   ]
  },
  {
   "cell_type": "code",
   "execution_count": 9,
   "id": "0e53e3e8",
   "metadata": {},
   "outputs": [
    {
     "name": "stdout",
     "output_type": "stream",
     "text": [
      "2\n"
     ]
    }
   ],
   "source": [
    "def getCommon(nums1: List[int], nums2: List[int]) -> int:\n",
    "    i, j = 0, 0\n",
    "    while i < len(nums1) and j < len(nums2):\n",
    "        if nums1[i] == nums2[j]:\n",
    "            return nums1[i]\n",
    "        elif nums1[i] < nums2[j]:\n",
    "            i += 1\n",
    "        else:\n",
    "            j += 1\n",
    "    return -1\n",
    "\n",
    "print(getCommon(nums1, nums2))  # Output: 2\n"
   ]
  },
  {
   "cell_type": "code",
   "execution_count": 8,
   "id": "1dfcff7c",
   "metadata": {},
   "outputs": [
    {
     "data": {
      "text/plain": [
       "3"
      ]
     },
     "execution_count": 8,
     "metadata": {},
     "output_type": "execute_result"
    }
   ],
   "source": [
    "getCommon(nums1, nums2)"
   ]
  },
  {
   "cell_type": "code",
   "execution_count": null,
   "id": "fd1bdc7b",
   "metadata": {},
   "outputs": [],
   "source": []
  }
 ],
 "metadata": {
  "kernelspec": {
   "display_name": "Python 3",
   "language": "python",
   "name": "python3"
  },
  "language_info": {
   "codemirror_mode": {
    "name": "ipython",
    "version": 3
   },
   "file_extension": ".py",
   "mimetype": "text/x-python",
   "name": "python",
   "nbconvert_exporter": "python",
   "pygments_lexer": "ipython3",
   "version": "3.10.12"
  }
 },
 "nbformat": 4,
 "nbformat_minor": 5
}
