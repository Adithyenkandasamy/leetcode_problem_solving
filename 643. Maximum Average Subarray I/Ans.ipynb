{
 "cells": [
  {
   "cell_type": "markdown",
   "id": "eab30514",
   "metadata": {},
   "source": [
    "```markdown\n",
    "# 643. Maximum Average Subarray I\n",
    "\n",
    "**Difficulty:** Easy  \n",
    "**Topics:** Sliding Window, Array  \n",
    "\n",
    "---\n",
    "\n",
    "## Problem Statement\n",
    "\n",
    "You are given an integer array `nums` consisting of `n` elements, and an integer `k`.\n",
    "\n",
    "Find a contiguous subarray whose length is equal to `k` that has the maximum average value and return this value. Any answer with a calculation error less than `10^-5` will be accepted.\n",
    "\n",
    "---\n",
    "\n",
    "## Examples\n",
    "\n",
    "### Example 1:\n",
    "\n",
    "**Input:**  \n",
    "`nums = [1,12,-5,-6,50,3]`, `k = 4`  \n",
    "**Output:**  \n",
    "`12.75000`  \n",
    "**Explanation:**  \n",
    "Maximum average is `(12 - 5 - 6 + 50) / 4 = 51 / 4 = 12.75`.\n",
    "\n",
    "---\n",
    "\n",
    "### Example 2:\n",
    "\n",
    "**Input:**  \n",
    "`nums = [5]`, `k = 1`  \n",
    "**Output:**  \n",
    "`5.00000`  \n",
    "\n",
    "---\n",
    "\n",
    "## Constraints:\n",
    "\n",
    "- `n == nums.length`\n",
    "- `1 <= k <= n <= 10^5`\n",
    "- `-10^4 <= nums[i] <= 10^4`\n",
    "```"
   ]
  },
  {
   "cell_type": "code",
   "execution_count": 10,
   "id": "95f5eedd",
   "metadata": {},
   "outputs": [],
   "source": [
    "from typing import List\n",
    "nums,k = [1,12,-5,-6,50,3], 4\n"
   ]
  },
  {
   "cell_type": "code",
   "execution_count": 22,
   "id": "f9310991",
   "metadata": {},
   "outputs": [],
   "source": [
    "def findMaxAverage( nums: List[int], k: int) -> float:\n",
    "    current_sum = sum(nums[:k])\n",
    "    max_sum = current_sum\n",
    "    for i in range(k, len(nums)):\n",
    "        current_sum += nums[i] - nums[i - k] \n",
    "        max_sum = max(max_sum, current_sum)\n",
    "    return max_sum / k\n"
   ]
  },
  {
   "cell_type": "code",
   "execution_count": 23,
   "id": "00e961e2",
   "metadata": {},
   "outputs": [
    {
     "data": {
      "text/plain": [
       "12.75"
      ]
     },
     "execution_count": 23,
     "metadata": {},
     "output_type": "execute_result"
    }
   ],
   "source": [
    "findMaxAverage(nums, k)"
   ]
  },
  {
   "cell_type": "code",
   "execution_count": null,
   "id": "d0621f58",
   "metadata": {},
   "outputs": [],
   "source": []
  }
 ],
 "metadata": {
  "kernelspec": {
   "display_name": "Python 3",
   "language": "python",
   "name": "python3"
  },
  "language_info": {
   "codemirror_mode": {
    "name": "ipython",
    "version": 3
   },
   "file_extension": ".py",
   "mimetype": "text/x-python",
   "name": "python",
   "nbconvert_exporter": "python",
   "pygments_lexer": "ipython3",
   "version": "3.10.12"
  }
 },
 "nbformat": 4,
 "nbformat_minor": 5
}
