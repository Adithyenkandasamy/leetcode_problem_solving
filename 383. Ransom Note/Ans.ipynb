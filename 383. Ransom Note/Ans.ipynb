{
 "cells": [
  {
   "cell_type": "markdown",
   "id": "071fb307",
   "metadata": {},
   "source": [
    "Easy\n",
    "Topics\n",
    "premium lock iconCompanies\n",
    "\n",
    "Given two strings ransomNote and magazine, return true if ransomNote can be constructed by using the letters from magazine and false otherwise.\n",
    "\n",
    "Each letter in magazine can only be used once in ransomNote.\n",
    "\n",
    " \n",
    "\n",
    "Example 1:\n",
    "\n",
    "Input: ransomNote = \"a\", magazine = \"b\"\n",
    "Output: false\n",
    "\n",
    "Example 2:\n",
    "\n",
    "Input: ransomNote = \"aa\", magazine = \"ab\"\n",
    "Output: false\n",
    "\n",
    "Example 3:\n",
    "\n",
    "Input: ransomNote = \"aa\", magazine = \"aab\"\n",
    "Output: true\n",
    "\n",
    " \n",
    "\n",
    "Constraints:\n",
    "\n",
    "    1 <= ransomNote.length, magazine.length <= 105\n",
    "    ransomNote and magazine consist of lowercase English letters.\n",
    "\n"
   ]
  },
  {
   "cell_type": "code",
   "execution_count": null,
   "id": "ab62fe96",
   "metadata": {},
   "outputs": [],
   "source": [
    "class Solution:\n",
    "    def canConstruct(self, r: str, m: str) -> bool:\n",
    "        st1 = Counter(r)\n",
    "        st2 = Counter(m)\n",
    "\n",
    "        return True if st1&st2 == st1 else False\n",
    "\n",
    "#the counter is used to count the number of characters in a string\n",
    "# and also return as like {\"a\":2,\"b\":1} like this\n",
    "#and the set methods are union, intersection, difference, symmetric difference\n",
    "# union returns all the elements from both sets\n",
    "# intersection returns the common elements from both sets\n",
    "# difference returns the elements that are in the first set but not in the second set\n",
    "# symmetric difference returns the elements that are in either of the sets but not in both sets\n",
    "\n",
    "# symbol & is used for intersection\n",
    "# symbol | is used for union\n",
    "# symbol - is used for difference\n",
    "# symbol ^ is used for symmetric difference\n",
    "\n",
    "# we can also use funtions like \n",
    "# intersection_update(), union_update(), difference_update(), symmetric_difference_update()\n",
    "\n"
   ]
  }
 ],
 "metadata": {
  "language_info": {
   "name": "python"
  }
 },
 "nbformat": 4,
 "nbformat_minor": 5
}
