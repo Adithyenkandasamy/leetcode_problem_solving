{
 "cells": [
  {
   "cell_type": "code",
   "execution_count": null,
   "id": "ebd7d042",
   "metadata": {
    "vscode": {
     "languageId": "markdown"
    }
   },
   "outputs": [],
   "source": [
    "```markdown\n",
    "# 1295. Find Numbers with Even Number of Digits\n",
    "\n",
    "## Problem Statement\n",
    "\n",
    "Given an array `nums` of integers, return how many of them contain an even number of digits.\n",
    "\n",
    "---\n",
    "\n",
    "## Examples\n",
    "\n",
    "### Example 1:\n",
    "\n",
    "**Input:**  \n",
    "`nums = [12, 345, 2, 6, 7896]`  \n",
    "\n",
    "**Output:**  \n",
    "`2`  \n",
    "\n",
    "**Explanation:**  \n",
    "- `12` contains 2 digits (even number of digits).  \n",
    "- `345` contains 3 digits (odd number of digits).  \n",
    "- `2` contains 1 digit (odd number of digits).  \n",
    "- `6` contains 1 digit (odd number of digits).  \n",
    "- `7896` contains 4 digits (even number of digits).  \n",
    "\n",
    "Therefore, only `12` and `7896` contain an even number of digits.\n",
    "\n",
    "---\n",
    "\n",
    "### Example 2:\n",
    "\n",
    "**Input:**  \n",
    "`nums = [555, 901, 482, 1771]`  \n",
    "\n",
    "**Output:**  \n",
    "`1`  \n",
    "\n",
    "**Explanation:**  \n",
    "Only `1771` contains an even number of digits.\n",
    "\n",
    "---\n",
    "\n",
    "## Constraints:\n",
    "\n",
    "- `1 <= nums.length <= 500`  \n",
    "- `1 <= nums[i] <= 10^5`\n",
    "```"
   ]
  },
  {
   "cell_type": "code",
   "execution_count": null,
   "id": "3c5ae3f4",
   "metadata": {
    "vscode": {
     "languageId": "markdown"
    }
   },
   "outputs": [],
   "source": [
    "class Solution:\n",
    "    def findNumbers(self, nums: List[int]) -> int:\n",
    "        count = 0\n",
    "        for i in nums:\n",
    "            if len(str(i))%2 == 0:\n",
    "                count +=1\n",
    "        return count        \n",
    "                                                                                                                                                                                                                                                                                                                                                                                                                                                        "
   ]
  }
 ],
 "metadata": {
  "language_info": {
   "name": "python"
  }
 },
 "nbformat": 4,
 "nbformat_minor": 5
}
