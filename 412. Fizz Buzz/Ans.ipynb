{
 "cells": [
  {
   "cell_type": "markdown",
   "id": "a6b70935",
   "metadata": {},
   "source": [
    "412. Fizz Buzz\n",
    "Solved\n",
    "Easy\n",
    "Topics\n",
    "premium lock iconCompanies\n",
    "\n",
    "Given an integer n, return a string array answer (1-indexed) where:\n",
    "\n",
    "    answer[i] == \"FizzBuzz\" if i is divisible by 3 and 5.\n",
    "    answer[i] == \"Fizz\" if i is divisible by 3.\n",
    "    answer[i] == \"Buzz\" if i is divisible by 5.\n",
    "    answer[i] == i (as a string) if none of the above conditions are true.\n",
    "\n",
    " \n",
    "\n",
    "Example 1:\n",
    "\n",
    "Input: n = 3\n",
    "Output: [\"1\",\"2\",\"Fizz\"]\n",
    "\n",
    "Example 2:\n",
    "\n",
    "Input: n = 5\n",
    "Output: [\"1\",\"2\",\"Fizz\",\"4\",\"Buzz\"]\n",
    "\n",
    "Example 3:\n",
    "\n",
    "Input: n = 15\n",
    "Output: [\"1\",\"2\",\"Fizz\",\"4\",\"Buzz\",\"Fizz\",\"7\",\"8\",\"Fizz\",\"Buzz\",\"11\",\"Fizz\",\"13\",\"14\",\"FizzBuzz\"]\n",
    "\n",
    " \n",
    "\n",
    "Constraints:\n",
    "\n",
    "    1 <= n <= 104\n",
    "\n"
   ]
  },
  {
   "cell_type": "code",
   "execution_count": null,
   "id": "9eb376dc",
   "metadata": {},
   "outputs": [
    {
     "ename": "",
     "evalue": "",
     "output_type": "error",
     "traceback": [
      "\u001b[1;31mRunning cells with 'Python 3.12.3' requires the ipykernel package.\n",
      "\u001b[1;31m<a href='command:jupyter.createPythonEnvAndSelectController'>Create a Python Environment</a> with the required packages.\n",
      "\u001b[1;31mOr install 'ipykernel' using the command: '/usr/bin/python3 -m pip install ipykernel -U --user --force-reinstall'"
     ]
    }
   ],
   "source": [
    "class Solution:\n",
    "    def fizzBuzz(self, n: int) -> List[str]:\n",
    "        ans = [j for j in range(1,n+1)]\n",
    "        print(ans)\n",
    "        for i in range(len(ans)):\n",
    "            if ans[i]%3==0 and ans[i]%5!=0:\n",
    "                ans[i]=\"Fizz\"\n",
    "            elif ans[i]%3!=0 and ans[i]%5==0:\n",
    "                ans[i]=\"Buzz\"\n",
    "            elif ans[i]%3==0 and ans[i]%5==0:\n",
    "                ans[i]=\"FizzBuzz\"\n",
    "            else:\n",
    "                ans[i]=str(i+1)         \n",
    "        return ans        \n",
    "\n",
    "\"\"\"simple method \n",
    "create an list for the list of values to place in order then try to change all check \n",
    "all based on the if else statement and also we cant use the replace so we simply assign it\n",
    "\"\"\""
   ]
  }
 ],
 "metadata": {
  "kernelspec": {
   "display_name": "Python 3",
   "language": "python",
   "name": "python3"
  },
  "language_info": {
   "name": "python",
   "version": "3.12.3"
  }
 },
 "nbformat": 4,
 "nbformat_minor": 5
}
