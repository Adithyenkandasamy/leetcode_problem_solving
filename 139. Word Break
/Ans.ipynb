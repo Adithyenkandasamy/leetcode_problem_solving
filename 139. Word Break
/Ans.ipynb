{
 "cells": [
  {
   "cell_type": "markdown",
   "id": "001551ff",
   "metadata": {},
   "source": [
    "139. Word Break\n",
    "Medium\n",
    "Topics\n",
    "premium lock iconCompanies\n",
    "\n",
    "Given a string s and a dictionary of strings wordDict, return true if s can be segmented into a space-separated sequence of one or more dictionary words.\n",
    "\n",
    "Note that the same word in the dictionary may be reused multiple times in the segmentation.\n",
    "\n",
    " \n",
    "\n",
    "Example 1:\n",
    "\n",
    "Input: s = \"leetcode\", wordDict = [\"leet\",\"code\"]\n",
    "Output: true\n",
    "Explanation: Return true because \"leetcode\" can be segmented as \"leet code\".\n",
    "\n",
    "Example 2:\n",
    "\n",
    "Input: s = \"applepenapple\", wordDict = [\"apple\",\"pen\"]\n",
    "Output: true\n",
    "Explanation: Return true because \"applepenapple\" can be segmented as \"apple pen apple\".\n",
    "Note that you are allowed to reuse a dictionary word.\n",
    "\n",
    "Example 3:\n",
    "\n",
    "Input: s = \"catsandog\", wordDict = [\"cats\",\"dog\",\"sand\",\"and\",\"cat\"]\n",
    "Output: false\n",
    "\n",
    " \n",
    "\n",
    "Constraints:\n",
    "\n",
    "    1 <= s.length <= 300\n",
    "    1 <= wordDict.length <= 1000\n",
    "    1 <= wordDict[i].length <= 20\n",
    "    s and wordDict[i] consist of only lowercase English letters.\n",
    "    All the strings of wordDict are unique.\n",
    "\n"
   ]
  },
  {
   "cell_type": "code",
   "execution_count": 22,
   "id": "96c442fa",
   "metadata": {},
   "outputs": [
    {
     "ename": "SyntaxError",
     "evalue": "invalid syntax (4062461489.py, line 5)",
     "output_type": "error",
     "traceback": [
      "\u001b[0;36m  Cell \u001b[0;32mIn[22], line 5\u001b[0;36m\u001b[0m\n\u001b[0;31m    no yet\u001b[0m\n\u001b[0m       ^\u001b[0m\n\u001b[0;31mSyntaxError\u001b[0m\u001b[0;31m:\u001b[0m invalid syntax\n"
     ]
    }
   ],
   "source": [
    "from typing import List\n",
    "\n",
    "class Solution:\n",
    "    def wordBreak(self, s: str, wordDict: List[str]) -> bool:\n",
    "        no yet\n",
    "                "
   ]
  },
  {
   "cell_type": "code",
   "execution_count": 21,
   "id": "3a1dd403",
   "metadata": {},
   "outputs": [
    {
     "name": "stdout",
     "output_type": "stream",
     "text": [
      "leetcode\n",
      "code\n"
     ]
    }
   ],
   "source": [
    "s = Solution()\n",
    "x = \"leetcode\"\n",
    "wordDict = [\"leet\",\"code\"]\n",
    "s.wordBreak(x,wordDict)"
   ]
  },
  {
   "cell_type": "code",
   "execution_count": null,
   "id": "1959ea39",
   "metadata": {},
   "outputs": [],
   "source": []
  }
 ],
 "metadata": {
  "kernelspec": {
   "display_name": "Python 3",
   "language": "python",
   "name": "python3"
  },
  "language_info": {
   "codemirror_mode": {
    "name": "ipython",
    "version": 3
   },
   "file_extension": ".py",
   "mimetype": "text/x-python",
   "name": "python",
   "nbconvert_exporter": "python",
   "pygments_lexer": "ipython3",
   "version": "3.10.12"
  }
 },
 "nbformat": 4,
 "nbformat_minor": 5
}
