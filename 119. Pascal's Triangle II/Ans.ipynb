{
 "cells": [
  {
   "cell_type": "markdown",
   "id": "3a13a5c9",
   "metadata": {},
   "source": [
    "119. Pascal's Triangle II\n",
    "Solved\n",
    "Easy\n",
    "Topics\n",
    "premium lock iconCompanies\n",
    "\n",
    "Given an integer rowIndex, return the rowIndexth (0-indexed) row of the Pascal's triangle.\n",
    "\n",
    "In Pascal's triangle, each number is the sum of the two numbers directly above it as shown:\n",
    "\n",
    " ![alt text](https://upload.wikimedia.org/wikipedia/commons/0/0d/PascalTriangleAnimated2.gif)\n",
    "\n",
    "Example 1:\n",
    "\n",
    "Input: rowIndex = 3\n",
    "Output: [1,3,3,1]\n",
    "\n",
    "Example 2:\n",
    "\n",
    "Input: rowIndex = 0\n",
    "Output: [1]\n",
    "\n",
    "Example 3:\n",
    "\n",
    "Input: rowIndex = 1\n",
    "Output: [1,1]\n",
    "\n",
    " \n",
    "\n",
    "Constraints:\n",
    "\n",
    "    0 <= rowIndex <= 33\n",
    "\n",
    " \n",
    "\n",
    "Follow up: Could you optimize your algorithm to use only O(rowIndex) extra space?\n"
   ]
  },
  {
   "cell_type": "code",
   "execution_count": null,
   "id": "47aaf449",
   "metadata": {
    "vscode": {
     "languageId": "plaintext"
    }
   },
   "outputs": [],
   "source": [
    "class Solution:\n",
    "    def getRow(self, rowIndex: int) -> List[int]:\n",
    "        numRows = rowIndex+1\n",
    "        if numRows <= 0:\n",
    "            return []\n",
    "        \n",
    "        first_row = [1]\n",
    "        rows = [first_row]\n",
    "\n",
    "        for _ in range(1, numRows):\n",
    "            row = [1]  \n",
    "            for i in range(1, len(rows[-1])):\n",
    "                num = rows[-1][i - 1] + rows[-1][i]\n",
    "                row.append(num)\n",
    "            row.append(1) \n",
    "            rows.append(row)\n",
    "\n",
    "        return rows[-1]\n"
   ]
  }
 ],
 "metadata": {
  "language_info": {
   "name": "python"
  }
 },
 "nbformat": 4,
 "nbformat_minor": 5
}
