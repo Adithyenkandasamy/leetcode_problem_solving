{
 "cells": [
  {
   "cell_type": "markdown",
   "id": "14de9273",
   "metadata": {},
   "source": [
    "\n",
    "\n",
    "# 2367. Number of Arithmetic Triplets\n",
    "\n",
    "**Difficulty:** Easy  \n",
    "**Topics:** Array, Hashing  \n",
    "**Companies:** N/A\n",
    "\n",
    "---\n",
    "\n",
    "## 📝 Problem Statement\n",
    "\n",
    "You are given a **0-indexed**, **strictly increasing** integer array `nums` and a positive integer `diff`.  \n",
    "\n",
    "A triplet `(i, j, k)` is called an **arithmetic triplet** if the following conditions are met:\n",
    "\n",
    "- `i < j < k`\n",
    "- `nums[j] - nums[i] == diff`\n",
    "- `nums[k] - nums[j] == diff`\n",
    "\n",
    "---\n",
    "\n",
    "### 🔁 Return\n",
    "\n",
    "Return the **number of unique arithmetic triplets** in the array.\n",
    "\n",
    "---\n",
    "\n",
    "## 🧪 Examples\n",
    "\n",
    "### Example 1\n",
    "\n",
    "**Input:**\n",
    "```python\n",
    "nums = [0, 1, 4, 6, 7, 10]\n",
    "diff = 3\n",
    "```\n",
    "\n",
    "**Output:**\n",
    "```\n",
    "2\n",
    "```\n",
    "\n",
    "**Explanation:**\n",
    "- Triplet (1, 2, 4): `4 - 1 == 3`, `7 - 4 == 3`\n",
    "- Triplet (2, 4, 5): `7 - 4 == 3`, `10 - 7 == 3`\n",
    "\n",
    "---\n",
    "\n",
    "### Example 2\n",
    "\n",
    "**Input:**\n",
    "```python\n",
    "nums = [4, 5, 6, 7, 8, 9]\n",
    "diff = 2\n",
    "```\n",
    "\n",
    "**Output:**\n",
    "```\n",
    "2\n",
    "```\n",
    "\n",
    "**Explanation:**\n",
    "- Triplet (0, 2, 4): `6 - 4 == 2`, `8 - 6 == 2`\n",
    "- Triplet (1, 3, 5): `7 - 5 == 2`, `9 - 7 == 2`\n",
    "\n",
    "---\n",
    "\n",
    "## ✅ Constraints\n",
    "\n",
    "- `3 <= nums.length <= 200`\n",
    "- `0 <= nums[i] <= 200`\n",
    "- `1 <= diff <= 50`\n",
    "- `nums` is **strictly increasing**\n",
    "\n",
    "---\n",
    "\n",
    "## 💡 Hint\n",
    "\n",
    "Try using a **set** to quickly check for the existence of needed values instead of using triple loops.\n",
    "\n",
    "---\n",
    "\n"
   ]
  },
  {
   "cell_type": "code",
   "execution_count": 1,
   "id": "314536a2",
   "metadata": {},
   "outputs": [],
   "source": [
    "from typing import List\n",
    "\n",
    "\n",
    "def arithmeticTriplets( nums: List[int], diff: int) -> int:\n",
    "        count = 0\n",
    "        for i in range(len(nums) - 2):\n",
    "            for j in range(len(nums) - 1):\n",
    "                for k in range(len(nums)):\n",
    "                    if nums[j] - nums[i] == diff and nums[k] - nums[j] == diff:\n",
    "                        count += 1\n",
    "        return count\n",
    "    "
   ]
  },
  {
   "cell_type": "code",
   "execution_count": 5,
   "id": "4cdda45f",
   "metadata": {},
   "outputs": [
    {
     "name": "stdout",
     "output_type": "stream",
     "text": [
      "2\n"
     ]
    }
   ],
   "source": [
    "nums = [0,1,4,6,7,10]\n",
    "diff = 3\n",
    "x = arithmeticTriplets(nums,diff)\n",
    "print(x)"
   ]
  }
 ],
 "metadata": {
  "kernelspec": {
   "display_name": "Python 3",
   "language": "python",
   "name": "python3"
  },
  "language_info": {
   "codemirror_mode": {
    "name": "ipython",
    "version": 3
   },
   "file_extension": ".py",
   "mimetype": "text/x-python",
   "name": "python",
   "nbconvert_exporter": "python",
   "pygments_lexer": "ipython3",
   "version": "3.10.12"
  }
 },
 "nbformat": 4,
 "nbformat_minor": 5
}
