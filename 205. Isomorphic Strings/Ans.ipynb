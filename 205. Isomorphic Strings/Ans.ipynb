{
 "cells": [
  {
   "cell_type": "markdown",
   "id": "f367b6f0",
   "metadata": {},
   "source": [
    "205. Isomorphic Strings\n",
    "Attempted\n",
    "Easy\n",
    "Topics\n",
    "premium lock iconCompanies\n",
    "\n",
    "Given two strings s and t, determine if they are isomorphic.\n",
    "\n",
    "Two strings s and t are isomorphic if the characters in s can be replaced to get t.\n",
    "\n",
    "All occurrences of a character must be replaced with another character while preserving the order of characters. No two characters may map to the same character, but a character may map to itself.\n",
    "\n",
    " \n",
    "\n",
    "Example 1:\n",
    "\n",
    "Input: s = \"egg\", t = \"add\"\n",
    "\n",
    "Output: true\n",
    "\n",
    "Explanation:\n",
    "\n",
    "The strings s and t can be made identical by:\n",
    "\n",
    "    Mapping 'e' to 'a'.\n",
    "    Mapping 'g' to 'd'.\n",
    "\n",
    "Example 2:\n",
    "\n",
    "Input: s = \"foo\", t = \"bar\"\n",
    "\n",
    "Output: false\n",
    "\n",
    "Explanation:\n",
    "\n",
    "The strings s and t can not be made identical as 'o' needs to be mapped to both 'a' and 'r'.\n",
    "\n",
    "Example 3:\n",
    "\n",
    "Input: s = \"paper\", t = \"title\"\n",
    "\n",
    "Output: true\n",
    "\n",
    " \n",
    "\n",
    "Constraints:\n",
    "\n",
    "    1 <= s.length <= 5 * 104\n",
    "    t.length == s.length\n",
    "    s and t consist of any valid ascii character.\n",
    "\n"
   ]
  },
  {
   "cell_type": "code",
   "execution_count": 5,
   "id": "39c9b3da",
   "metadata": {},
   "outputs": [
    {
     "data": {
      "text/plain": [
       "True"
      ]
     },
     "execution_count": 5,
     "metadata": {},
     "output_type": "execute_result"
    }
   ],
   "source": [
    "class Solution:\n",
    "    def isIsomorphic(self, s: str, t: str) -> bool:\n",
    "        return len(set(zip(s, t))) == len(set(s)) == len(set(t))\n",
    "\n",
    "s = Solution()\n",
    "s.isIsomorphic(\"egg\", \"add\")"
   ]
  }
 ],
 "metadata": {
  "kernelspec": {
   "display_name": "Python 3",
   "language": "python",
   "name": "python3"
  },
  "language_info": {
   "codemirror_mode": {
    "name": "ipython",
    "version": 3
   },
   "file_extension": ".py",
   "mimetype": "text/x-python",
   "name": "python",
   "nbconvert_exporter": "python",
   "pygments_lexer": "ipython3",
   "version": "3.10.12"
  }
 },
 "nbformat": 4,
 "nbformat_minor": 5
}
