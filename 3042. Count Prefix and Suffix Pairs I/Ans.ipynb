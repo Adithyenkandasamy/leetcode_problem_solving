{
 "cells": [
  {
   "cell_type": "markdown",
   "id": "3e4ee73a",
   "metadata": {},
   "source": [
    "```markdown\n",
    "# 3042. Count Prefix and Suffix Pairs I\n",
    "\n",
    "**Difficulty:** Easy  \n",
    "**Topics:**  \n",
    "**Companies:**  \n",
    "**Hint:**  \n",
    "\n",
    "You are given a 0-indexed string array `words`.\n",
    "\n",
    "Let's define a boolean function `isPrefixAndSuffix` that takes two strings, `str1` and `str2`:\n",
    "\n",
    "- `isPrefixAndSuffix(str1, str2)` returns `true` if `str1` is both a **prefix** and a **suffix** of `str2`, and `false` otherwise.\n",
    "\n",
    "For example, `isPrefixAndSuffix(\"aba\", \"ababa\")` is `true` because `\"aba\"` is a prefix of `\"ababa\"` and also a suffix, but `isPrefixAndSuffix(\"abc\", \"abcd\")` is `false`.\n",
    "\n",
    "Return an integer denoting the number of index pairs `(i, j)` such that `i < j`, and `isPrefixAndSuffix(words[i], words[j])` is `true`.\n",
    "\n",
    "---\n",
    "\n",
    "### Example 1:\n",
    "\n",
    "**Input:**  \n",
    "`words = [\"a\",\"aba\",\"ababa\",\"aa\"]`  \n",
    "\n",
    "**Output:**  \n",
    "`4`  \n",
    "\n",
    "**Explanation:**  \n",
    "In this example, the counted index pairs are:  \n",
    "- `i = 0` and `j = 1` because `isPrefixAndSuffix(\"a\", \"aba\")` is `true`.\n",
    "- `i = 0` and `j = 2` because `isPrefixAndSuffix(\"a\", \"ababa\")` is `true`.\n",
    "- `i = 0` and `j = 3` because `isPrefixAndSuffix(\"a\", \"aa\")` is `true`.\n",
    "- `i = 1` and `j = 2` because `isPrefixAndSuffix(\"aba\", \"ababa\")` is `true`.\n",
    "\n",
    "Therefore, the answer is `4`.\n",
    "\n",
    "---\n",
    "\n",
    "### Example 2:\n",
    "\n",
    "**Input:**  \n",
    "`words = [\"pa\",\"papa\",\"ma\",\"mama\"]`  \n",
    "\n",
    "**Output:**  \n",
    "`2`  \n",
    "\n",
    "**Explanation:**  \n",
    "In this example, the counted index pairs are:  \n",
    "- `i = 0` and `j = 1` because `isPrefixAndSuffix(\"pa\", \"papa\")` is `true`.\n",
    "- `i = 2` and `j = 3` because `isPrefixAndSuffix(\"ma\", \"mama\")` is `true`.\n",
    "\n",
    "Therefore, the answer is `2`.\n",
    "\n",
    "---\n",
    "\n",
    "### Example 3:\n",
    "\n",
    "**Input:**  \n",
    "`words = [\"abab\",\"ab\"]`  \n",
    "\n",
    "**Output:**  \n",
    "`0`  \n",
    "\n",
    "**Explanation:**  \n",
    "In this example, the only valid index pair is `i = 0` and `j = 1`, and `isPrefixAndSuffix(\"abab\", \"ab\")` is `false`.\n",
    "\n",
    "Therefore, the answer is `0`.\n",
    "\n",
    "---\n",
    "\n",
    "### Constraints:\n",
    "\n",
    "- `1 <= words.length <= 50`\n",
    "- `1 <= words[i].length <= 10`\n",
    "- `words[i]` consists only of lowercase English letters.\n",
    "```\n"
   ]
  },
  {
   "cell_type": "code",
   "execution_count": 5,
   "id": "fa22706b",
   "metadata": {},
   "outputs": [],
   "source": [
    "from typing import List\n",
    "def countPrefixSuffixPairs( words: List[str]) -> int:\n",
    "    count = 0\n",
    "    for i in range(len(words)):\n",
    "        for j in range(i+1,len(words)):\n",
    "            if words[j].startswith(words[i]) or words[j].endswith(words[i]):\n",
    "                count += 1\n",
    "    return count            \n",
    "                "
   ]
  },
  {
   "cell_type": "code",
   "execution_count": 6,
   "id": "ad0c1e93",
   "metadata": {},
   "outputs": [
    {
     "name": "stdout",
     "output_type": "stream",
     "text": [
      "4\n"
     ]
    }
   ],
   "source": [
    "words = [\"a\",\"b\",\"ab\",\"ba\"]\n",
    "print(countPrefixSuffixPairs(words))"
   ]
  }
 ],
 "metadata": {
  "kernelspec": {
   "display_name": "Python 3",
   "language": "python",
   "name": "python3"
  },
  "language_info": {
   "codemirror_mode": {
    "name": "ipython",
    "version": 3
   },
   "file_extension": ".py",
   "mimetype": "text/x-python",
   "name": "python",
   "nbconvert_exporter": "python",
   "pygments_lexer": "ipython3",
   "version": "3.10.12"
  }
 },
 "nbformat": 4,
 "nbformat_minor": 5
}
