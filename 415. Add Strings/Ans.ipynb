{
 "cells": [
  {
   "cell_type": "markdown",
   "metadata": {},
   "source": [
    "Sure! Here's the Markdown-formatted version of the problem **\"415. Add Strings\"** suitable for documentation, README, or note-taking:\n",
    "\n",
    "---\n",
    "\n",
    "# 415. Add Strings\n",
    "\n",
    "**Difficulty**: Easy  \n",
    "**Topics**: String, Simulation  \n",
    "**Companies**: [LeetCode list of associated companies, if needed]\n",
    "\n",
    "---\n",
    "\n",
    "## 📝 Problem Statement\n",
    "\n",
    "Given two non-negative integers `num1` and `num2` represented as strings, return the **sum** of `num1` and `num2` as a string.\n",
    "\n",
    "You must solve the problem **without using any built-in library for handling large integers** (such as `BigInteger`).  \n",
    "You **must not convert** the inputs to integers directly.\n",
    "\n",
    "---\n",
    "\n",
    "## ✅ Example\n",
    "\n",
    "### Example 1:\n",
    "```\n",
    "Input:  num1 = \"11\", num2 = \"123\"\n",
    "Output: \"134\"\n",
    "```\n",
    "\n",
    "### Example 2:\n",
    "```\n",
    "Input:  num1 = \"456\", num2 = \"77\"\n",
    "Output: \"533\"\n",
    "```\n",
    "\n",
    "### Example 3:\n",
    "```\n",
    "Input:  num1 = \"0\", num2 = \"0\"\n",
    "Output: \"0\"\n",
    "```\n",
    "\n",
    "---\n",
    "\n",
    "## 🔒 Constraints\n",
    "\n",
    "- `1 <= num1.length, num2.length <= 10⁴`\n",
    "- `num1` and `num2` consist of only digits (`'0'` to `'9'`)\n",
    "- `num1` and `num2` **do not contain leading zeros**, except for the zero itself (`\"0\"`)\n",
    "\n",
    "---\n",
    "\n",
    "## 💡 Hint\n",
    "\n",
    "Simulate the addition manually, digit by digit (from right to left), while keeping track of the carry — similar to how you'd add numbers on paper.\n",
    "\n",
    "---\n",
    "\n",
    "Let me know if you'd like the Python code included as well in this Markdown!"
   ]
  },
  {
   "cell_type": "code",
   "execution_count": 353,
   "metadata": {},
   "outputs": [
    {
     "name": "stdout",
     "output_type": "stream",
     "text": [
      "48\n",
      "50\n",
      "51\n"
     ]
    }
   ],
   "source": [
    "print(ord(\"0\"))\n",
    "print(ord(\"2\"))\n",
    "print(ord(\"3\"))\n"
   ]
  },
  {
   "cell_type": "code",
   "execution_count": null,
   "metadata": {},
   "outputs": [],
   "source": []
  }
 ],
 "metadata": {
  "kernelspec": {
   "display_name": "Python 3",
   "language": "python",
   "name": "python3"
  },
  "language_info": {
   "codemirror_mode": {
    "name": "ipython",
    "version": 3
   },
   "file_extension": ".py",
   "mimetype": "text/x-python",
   "name": "python",
   "nbconvert_exporter": "python",
   "pygments_lexer": "ipython3",
   "version": "3.10.12"
  }
 },
 "nbformat": 4,
 "nbformat_minor": 2
}
