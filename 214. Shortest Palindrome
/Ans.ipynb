{
 "cells": [
  {
   "cell_type": "markdown",
   "id": "0b323482",
   "metadata": {},
   "source": [
    "```markdown\n",
    "# 214. Shortest Palindrome\n",
    "\n",
    "**Hard**\n",
    "\n",
    "## Problem Description\n",
    "\n",
    "You are given a string `s`. You can convert `s` to a palindrome by adding characters in front of it.\n",
    "\n",
    "Return the shortest palindrome you can find by performing this transformation.\n",
    "\n",
    "---\n",
    "\n",
    "## Examples\n",
    "\n",
    "### Example 1:\n",
    "**Input:**  \n",
    "`s = \"aacecaaa\"`  \n",
    "**Output:**  \n",
    "`\"aaacecaaa\"`\n",
    "\n",
    "### Example 2:\n",
    "**Input:**  \n",
    "`s = \"abcd\"`  \n",
    "**Output:**  \n",
    "`\"dcbabcd\"`\n",
    "\n",
    "---\n",
    "## Constraints:\n",
    "- `0 <= s.length <= 5 * 10⁴`\n",
    "- `s` consists of lowercase English letters only.\n",
    "```"
   ]
  },
  {
   "cell_type": "code",
   "execution_count": null,
   "id": "4e2cccff",
   "metadata": {},
   "outputs": [],
   "source": [
    "def shortestPalindrome( s: str) -> str:\n",
    "    \n",
    "    r = s[::-1]\n",
    "    x = \"\"\n",
    "    for i in range(len(s)+1):\n",
    "        if s.startswith(r[i:]):\n",
    "            x=r[:i] + s\n",
    "            return x    "
   ]
  },
  {
   "cell_type": "code",
   "execution_count": 15,
   "id": "ab33894c",
   "metadata": {},
   "outputs": [
    {
     "name": "stdout",
     "output_type": "stream",
     "text": [
      "aaacecaaa\n"
     ]
    }
   ],
   "source": [
    "s = \"aacecaaa\"\n",
    "print(shortestPalindrome(s))"
   ]
  }
 ],
 "metadata": {
  "kernelspec": {
   "display_name": "Python 3",
   "language": "python",
   "name": "python3"
  },
  "language_info": {
   "codemirror_mode": {
    "name": "ipython",
    "version": 3
   },
   "file_extension": ".py",
   "mimetype": "text/x-python",
   "name": "python",
   "nbconvert_exporter": "python",
   "pygments_lexer": "ipython3",
   "version": "3.10.12"
  }
 },
 "nbformat": 4,
 "nbformat_minor": 5
}
