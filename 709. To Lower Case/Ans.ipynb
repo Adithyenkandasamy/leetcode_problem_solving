{
 "cells": [
  {
   "cell_type": "markdown",
   "metadata": {},
   "source": [
    "# 709. To Lower Case\n",
    "Easy\n",
    "Topics\n",
    "Companies\n",
    "\n",
    "Given a string `s`, return the string after replacing every uppercase letter with the same lowercase letter.\n",
    "\n",
    " \n",
    "\n",
    "### Example 1:\n",
    "\n",
    "Input: `s = \"Hello\"`\n",
    "Output: `\"hello\"`\n",
    "\n",
    "### Example 2:\n",
    "\n",
    "Input: `s = \"here\"`\n",
    "Output: `\"here\"`\n",
    "\n",
    "### Example 3:\n",
    "\n",
    "Input: `s = \"LOVELY\"`\n",
    "Output: `\"lovely\"`\n",
    "\n",
    " \n",
    "\n",
    "### Constraints:\n",
    "\n",
    "* `1 <= s.length <= 100`\n",
    "* `s` consists of printable ASCII characters.\n"
   ]
  },
  {
   "cell_type": "code",
   "execution_count": 6,
   "metadata": {},
   "outputs": [],
   "source": [
    "def toLowerCase( s: str) -> str:\n",
    "    result = \"\"\n",
    "    if len(s)<=100 and len(s)>=1:\n",
    "        result += s.lower()\n",
    "    return result    \n",
    "\n",
    "        "
   ]
  },
  {
   "cell_type": "code",
   "execution_count": 8,
   "metadata": {},
   "outputs": [
    {
     "data": {
      "text/plain": [
       "'hello'"
      ]
     },
     "execution_count": 8,
     "metadata": {},
     "output_type": "execute_result"
    }
   ],
   "source": [
    "toLowerCase(\"Hello\")"
   ]
  }
 ],
 "metadata": {
  "kernelspec": {
   "display_name": "Python 3",
   "language": "python",
   "name": "python3"
  },
  "language_info": {
   "codemirror_mode": {
    "name": "ipython",
    "version": 3
   },
   "file_extension": ".py",
   "mimetype": "text/x-python",
   "name": "python",
   "nbconvert_exporter": "python",
   "pygments_lexer": "ipython3",
   "version": "3.10.12"
  }
 },
 "nbformat": 4,
 "nbformat_minor": 2
}
