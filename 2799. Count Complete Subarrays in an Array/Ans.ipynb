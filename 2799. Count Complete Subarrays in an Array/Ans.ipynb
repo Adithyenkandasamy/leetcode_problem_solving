{
 "cells": [
  {
   "cell_type": "code",
   "execution_count": null,
   "id": "bb8ffef8",
   "metadata": {
    "vscode": {
     "languageId": "markdown"
    }
   },
   "outputs": [],
   "source": [
    "```markdown\n",
    "# 2799. Count Complete Subarrays in an Array\n",
    "\n",
    "**Medium**\n",
    "\n",
    "---\n",
    "\n",
    "## Problem Description\n",
    "\n",
    "You are given an array `nums` consisting of positive integers.\n",
    "\n",
    "We call a subarray of an array **complete** if the following condition is satisfied:\n",
    "\n",
    "- The number of distinct elements in the subarray is equal to the number of distinct elements in the whole array.\n",
    "\n",
    "Return the number of complete subarrays.\n",
    "\n",
    "A subarray is a contiguous non-empty part of an array.\n",
    "\n",
    "---\n",
    "\n",
    "## Examples\n",
    "\n",
    "### Example 1:\n",
    "\n",
    "**Input:** \n",
    "```\n",
    "nums = [1,3,1,2,2]\n",
    "```\n",
    "\n",
    "**Output:** \n",
    "```\n",
    "4\n",
    "```\n",
    "\n",
    "**Explanation:** \n",
    "The complete subarrays are the following: `[1,3,1,2]`, `[1,3,1,2,2]`, `[3,1,2]` and `[3,1,2,2]`.\n",
    "\n",
    "---\n",
    "\n",
    "### Example 2:\n",
    "\n",
    "**Input:** \n",
    "```\n",
    "nums = [5,5,5,5]\n",
    "```\n",
    "\n",
    "**Output:** \n",
    "```\n",
    "10\n",
    "```\n",
    "\n",
    "**Explanation:** \n",
    "The array consists only of the integer `5`, so any subarray is complete. The number of subarrays that we can choose is `10`.\n",
    "\n",
    "---\n",
    "\n",
    "## Constraints:\n",
    "\n",
    "- `1 <= nums.length <= 1000`\n",
    "- `1 <= nums[i] <= 2000`\n",
    "```"
   ]
  },
  {
   "cell_type": "code",
   "execution_count": null,
   "id": "69942e62",
   "metadata": {},
   "outputs": [],
   "source": [
    "from typing import List\n",
    "\n",
    "class Solution:\n",
    "    def countCompleteSubarrays(self, nums: List[int]) -> int:\n",
    "        "
   ]
  },
  {
   "cell_type": "code",
   "execution_count": null,
   "id": "798ec58d",
   "metadata": {},
   "outputs": [],
   "source": [
    "nums = [1,3,1,2,2]\n"
   ]
  }
 ],
 "metadata": {
  "language_info": {
   "name": "python"
  }
 },
 "nbformat": 4,
 "nbformat_minor": 5
}
