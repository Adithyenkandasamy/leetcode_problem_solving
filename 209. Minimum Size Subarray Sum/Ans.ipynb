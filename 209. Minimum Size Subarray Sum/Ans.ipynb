{
 "cells": [
  {
   "cell_type": "markdown",
   "id": "f90cf6a3",
   "metadata": {},
   "source": [
    "```markdown\n",
    "# 209. Minimum Size Subarray Sum\n",
    "\n",
    "**Medium**\n",
    "\n",
    "## Problem Description\n",
    "\n",
    "Given an array of positive integers `nums` and a positive integer `target`, return the minimal length of a subarray whose sum is greater than or equal to `target`. If there is no such subarray, return `0` instead.\n",
    "\n",
    "---\n",
    "\n",
    "### Example 1:\n",
    "\n",
    "**Input:**  \n",
    "`target = 7, nums = [2,3,1,2,4,3]`  \n",
    "**Output:**  \n",
    "`2`  \n",
    "**Explanation:**  \n",
    "The subarray `[4,3]` has the minimal length under the problem constraint.\n",
    "\n",
    "---\n",
    "\n",
    "### Example 2:\n",
    "\n",
    "**Input:**  \n",
    "`target = 4, nums = [1,4,4]`  \n",
    "**Output:**  \n",
    "`1`\n",
    "\n",
    "---\n",
    "\n",
    "### Example 3:\n",
    "\n",
    "**Input:**  \n",
    "`target = 11, nums = [1,1,1,1,1,1,1,1]`  \n",
    "**Output:**  \n",
    "`0`\n",
    "\n",
    "---\n",
    "\n",
    "## Constraints:\n",
    "\n",
    "- `1 <= target <= 10^9`\n",
    "- `1 <= nums.length <= 10^5`\n",
    "- `1 <= nums[i] <= 10^4`\n",
    "```"
   ]
  },
  {
   "cell_type": "code",
   "execution_count": 1,
   "id": "8ea0b82b",
   "metadata": {},
   "outputs": [],
   "source": [
    "from typing import List"
   ]
  },
  {
   "cell_type": "code",
   "execution_count": 2,
   "id": "da1d6484",
   "metadata": {},
   "outputs": [],
   "source": [
    "def minSubArrayLen(target: int, nums: List[int]) -> int:\n",
    "    n = len(nums)\n",
    "    min_len = float('inf')\n",
    "    left = 0\n",
    "    current_sum = 0\n",
    "\n",
    "    for right in range(n):\n",
    "        current_sum += nums[right]\n",
    "\n",
    "        while current_sum >= target:\n",
    "            min_len = min(min_len, right - left + 1)\n",
    "            current_sum -= nums[left]\n",
    "            left += 1\n",
    "\n",
    "    return min_len if min_len != float('inf') else 0\n"
   ]
  },
  {
   "cell_type": "code",
   "execution_count": 3,
   "id": "b5301b1a",
   "metadata": {},
   "outputs": [
    {
     "name": "stdout",
     "output_type": "stream",
     "text": [
      "2\n"
     ]
    }
   ],
   "source": [
    "target = 7\n",
    "nums = [2,3,1,2,4,3]\n",
    "result = minSubArrayLen(target, nums)   \n",
    "print(result)  # Output: 2"
   ]
  }
 ],
 "metadata": {
  "kernelspec": {
   "display_name": "Python 3",
   "language": "python",
   "name": "python3"
  },
  "language_info": {
   "codemirror_mode": {
    "name": "ipython",
    "version": 3
   },
   "file_extension": ".py",
   "mimetype": "text/x-python",
   "name": "python",
   "nbconvert_exporter": "python",
   "pygments_lexer": "ipython3",
   "version": "3.10.12"
  }
 },
 "nbformat": 4,
 "nbformat_minor": 5
}
