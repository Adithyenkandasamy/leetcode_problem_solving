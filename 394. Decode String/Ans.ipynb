{
 "cells": [
  {
   "cell_type": "markdown",
   "id": "0093b1fe",
   "metadata": {},
   "source": [
    "```markdown\n",
    "## 394. Decode String\n",
    "\n",
    "**Medium**\n",
    "\n",
    "### Problem Description\n",
    "\n",
    "Given an encoded string, return its decoded string.\n",
    "\n",
    "The encoding rule is: `k[encoded_string]`, where the `encoded_string` inside the square brackets is being repeated exactly `k` times. Note that `k` is guaranteed to be a positive integer.\n",
    "\n",
    "You may assume that the input string is always valid; there are no extra white spaces, square brackets are well-formed, etc. Furthermore, you may assume that the original data does not contain any digits and that digits are only for those repeat numbers, `k`. For example, there will not be input like `3a` or `2[4]`.\n",
    "\n",
    "The test cases are generated so that the length of the output will never exceed `10^5`.\n",
    "\n",
    "---\n",
    "\n",
    "### Examples\n",
    "\n",
    "#### Example 1:\n",
    "**Input:**  \n",
    "`s = \"3[a]2[bc]\"`  \n",
    "**Output:**  \n",
    "`\"aaabcbc\"`\n",
    "\n",
    "#### Example 2:\n",
    "**Input:**  \n",
    "`s = \"3[a2[c]]\"`  \n",
    "**Output:**  \n",
    "`\"accaccacc\"`\n",
    "\n",
    "#### Example 3:\n",
    "**Input:**  \n",
    "`s = \"2[abc]3[cd]ef\"`  \n",
    "**Output:**  \n",
    "`\"abcabccdcdcdef\"`\n",
    "\n",
    "---\n",
    "\n",
    "### Constraints\n",
    "\n",
    "- `1 <= s.length <= 30`\n",
    "- `s` consists of lowercase English letters, digits, and square brackets `'[]'`.\n",
    "- `s` is guaranteed to be a valid input.\n",
    "- All the integers in `s` are in the range `[1, 300]`.\n",
    "```"
   ]
  },
  {
   "cell_type": "code",
   "execution_count": 2,
   "id": "0073e337",
   "metadata": {},
   "outputs": [],
   "source": [
    "class Solution:\n",
    "    def decodeString(self, s: str) -> str:\n",
    "        num_stack = []\n",
    "        str_stack = []\n",
    "        current_str = ''\n",
    "        current_num = 0\n",
    "\n",
    "        for char in s:\n",
    "            if char.isdigit():\n",
    "                current_num = current_num * 10 + int(char)\n",
    "            elif char == '[':\n",
    "                num_stack.append(current_num)\n",
    "                str_stack.append(current_str)\n",
    "                current_num = 0\n",
    "                current_str = ''\n",
    "            elif char == ']':\n",
    "                repeat = num_stack.pop()\n",
    "                prev_str = str_stack.pop()\n",
    "                current_str = prev_str + current_str * repeat\n",
    "            else:\n",
    "                current_str += char\n",
    "\n",
    "        return current_str\n"
   ]
  },
  {
   "cell_type": "code",
   "execution_count": 5,
   "id": "8010711f",
   "metadata": {},
   "outputs": [
    {
     "name": "stdout",
     "output_type": "stream",
     "text": [
      "aaabcbc\n"
     ]
    }
   ],
   "source": [
    "s = Solution()\n",
    "print(s.decodeString(\"3[a]2[bc]\"))  # Output: \"dcbaefd\""
   ]
  },
  {
   "cell_type": "code",
   "execution_count": null,
   "id": "0217d402",
   "metadata": {},
   "outputs": [],
   "source": []
  }
 ],
 "metadata": {
  "kernelspec": {
   "display_name": "Python 3",
   "language": "python",
   "name": "python3"
  },
  "language_info": {
   "codemirror_mode": {
    "name": "ipython",
    "version": 3
   },
   "file_extension": ".py",
   "mimetype": "text/x-python",
   "name": "python",
   "nbconvert_exporter": "python",
   "pygments_lexer": "ipython3",
   "version": "3.10.12"
  }
 },
 "nbformat": 4,
 "nbformat_minor": 5
}
