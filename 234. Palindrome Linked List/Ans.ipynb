{
 "cells": [
  {
   "cell_type": "code",
   "execution_count": null,
   "id": "6296acb4",
   "metadata": {
    "vscode": {
     "languageId": "markdown"
    }
   },
   "outputs": [],
   "source": [
    "# 234. Palindrome Linked List\n",
    "\n",
    "**Difficulty:** Easy  \n",
    "**Topics:** Linked List, Two Pointers, Recursion  \n",
    "\n",
    "---\n",
    "\n",
    "## Problem Statement\n",
    "\n",
    "Given the head of a singly linked list, return `true` if it is a palindrome or `false` otherwise.\n",
    "\n",
    "---\n",
    "\n",
    "### Example 1:\n",
    "\n",
    "**Input:**  \n",
    "`head = [1,2,2,1]`  \n",
    "**Output:**  \n",
    "`true`\n",
    "![alt text](https://assets.leetcode.com/uploads/2021/03/03/pal1linked-list.jpg)\n",
    "---\n",
    "\n",
    "### Example 2:\n",
    "\n",
    "**Input:**  \n",
    "`head = [1,2]`  \n",
    "**Output:**  \n",
    "`false`\n",
    "\n",
    "---\n",
    "\n",
    "## Constraints:\n",
    "\n",
    "- The number of nodes in the list is in the range `[1, 10^5]`.\n",
    "- `0 <= Node.val <= 9`\n",
    "\n",
    "---\n",
    "\n",
    "## Follow-up:\n",
    "\n",
    "Could you do it in **O(n)** time and **O(1)** space?"
   ]
  },
  {
   "cell_type": "code",
   "execution_count": 17,
   "id": "cf3814df",
   "metadata": {},
   "outputs": [],
   "source": [
    "from typing import Optional\n",
    "class ListNode:\n",
    "    def __init__(self, val=0, next=None):\n",
    "        self.val = val\n",
    "        self.next = next\n",
    "\n",
    "class Solution:\n",
    "    def isPalindrome(self, head: Optional[ListNode]) -> bool:\n",
    "        cur = head\n",
    "        prev = None\n",
    "        while cur:\n",
    "            next_node = cur.next\n",
    "            cur.next = prev\n",
    "            prev = cur\n",
    "            cur = next_node    \n",
    "        while prev and head:\n",
    "            if prev != head:\n",
    "                return False\n",
    "\n",
    "            prev = prev.next\n",
    "            head = head.next\n",
    "        return True"
   ]
  },
  {
   "cell_type": "code",
   "execution_count": 18,
   "id": "a9d78b08",
   "metadata": {},
   "outputs": [],
   "source": [
    "def create_linked_list(arr):\n",
    "    if not arr:\n",
    "        return None\n",
    "    head = ListNode(arr[0])\n",
    "    current = head\n",
    "    for num in arr[1:]:\n",
    "        current.next = ListNode(num)\n",
    "        current = current.next\n",
    "    return head\n",
    "\n",
    "def print_linked_list(head):\n",
    "    while head:\n",
    "        print(head.val, end=\" -> \")\n",
    "        head = head.next\n",
    "    print(\"None\")"
   ]
  },
  {
   "cell_type": "code",
   "execution_count": 20,
   "id": "8ee333b7",
   "metadata": {},
   "outputs": [
    {
     "name": "stdout",
     "output_type": "stream",
     "text": [
      "False\n"
     ]
    }
   ],
   "source": [
    "if __name__ == \"__main__\":\n",
    "    arr = [1,2,2,1] \n",
    "    head = create_linked_list(arr) \n",
    "\n",
    "    sol = Solution()  \n",
    "    new_head = sol.isPalindrome(head)  \n",
    "\n",
    "    print(new_head) "
   ]
  },
  {
   "cell_type": "code",
   "execution_count": null,
   "id": "8e2dcd3d",
   "metadata": {},
   "outputs": [],
   "source": []
  },
  {
   "cell_type": "code",
   "execution_count": null,
   "id": "03a95f28",
   "metadata": {},
   "outputs": [],
   "source": []
  }
 ],
 "metadata": {
  "kernelspec": {
   "display_name": "Python 3",
   "language": "python",
   "name": "python3"
  },
  "language_info": {
   "codemirror_mode": {
    "name": "ipython",
    "version": 3
   },
   "file_extension": ".py",
   "mimetype": "text/x-python",
   "name": "python",
   "nbconvert_exporter": "python",
   "pygments_lexer": "ipython3",
   "version": "3.10.12"
  }
 },
 "nbformat": 4,
 "nbformat_minor": 5
}
