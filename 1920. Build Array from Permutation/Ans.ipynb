{
 "cells": [
  {
   "cell_type": "code",
   "execution_count": null,
   "id": "52c314ec",
   "metadata": {
    "vscode": {
     "languageId": "markdown"
    }
   },
   "outputs": [],
   "source": [
    "```markdown\n",
    "# 1920. Build Array from Permutation\n",
    "\n",
    "**Difficulty:** Easy  \n",
    "**Topics:** Arrays  \n",
    "**Companies:** -  \n",
    "**Hint:** -\n",
    "\n",
    "---\n",
    "\n",
    "## Problem Statement\n",
    "\n",
    "Given a zero-based permutation `nums` (0-indexed), build an array `ans` of the same length where `ans[i] = nums[nums[i]]` for each `0 <= i < nums.length` and return it.\n",
    "\n",
    "A zero-based permutation `nums` is an array of distinct integers from `0` to `nums.length - 1` (inclusive).\n",
    "\n",
    "---\n",
    "\n",
    "## Examples\n",
    "\n",
    "### Example 1:\n",
    "\n",
    "**Input:**  \n",
    "`nums = [0,2,1,5,3,4]`  \n",
    "\n",
    "**Output:**  \n",
    "`[0,1,2,4,5,3]`  \n",
    "\n",
    "**Explanation:**  \n",
    "The array `ans` is built as follows:  \n",
    "`ans = [nums[nums[0]], nums[nums[1]], nums[nums[2]], nums[nums[3]], nums[nums[4]], nums[nums[5]]]`  \n",
    "`    = [nums[0], nums[2], nums[1], nums[5], nums[3], nums[4]]`  \n",
    "`    = [0,1,2,4,5,3]`\n",
    "\n",
    "---\n",
    "\n",
    "### Example 2:\n",
    "\n",
    "**Input:**  \n",
    "`nums = [5,0,1,2,3,4]`  \n",
    "\n",
    "**Output:**  \n",
    "`[4,5,0,1,2,3]`  \n",
    "\n",
    "**Explanation:**  \n",
    "The array `ans` is built as follows:  \n",
    "`ans = [nums[nums[0]], nums[nums[1]], nums[nums[2]], nums[nums[3]], nums[nums[4]], nums[nums[5]]]`  \n",
    "`    = [nums[5], nums[0], nums[1], nums[2], nums[3], nums[4]]`  \n",
    "`    = [4,5,0,1,2,3]`\n",
    "\n",
    "---\n",
    "\n",
    "## Constraints:\n",
    "\n",
    "- `1 <= nums.length <= 1000`\n",
    "- `0 <= nums[i] < nums.length`\n",
    "- The elements in `nums` are distinct.\n",
    "\n",
    "---\n",
    "\n",
    "## Follow-up:\n",
    "\n",
    "Can you solve it without using an extra space (i.e., O(1) memory)?\n",
    "```"
   ]
  },
  {
   "cell_type": "code",
   "execution_count": 2,
   "id": "6a86fc0d",
   "metadata": {},
   "outputs": [
    {
     "name": "stdout",
     "output_type": "stream",
     "text": [
      "[4, 5, 0, 1, 2, 3]\n"
     ]
    }
   ],
   "source": [
    "from typing import List\n",
    "class Solution:\n",
    "    def buildArray(self, nums: List[int]) -> List[int]:\n",
    "        num = []\n",
    "        for i in nums:\n",
    "            num.append(nums[i])\n",
    "        return num    \n",
    "\n",
    "s = Solution()\n",
    "nums = s.buildArray([5,0,1,2,3,4])\n",
    "print(nums)"
   ]
  }
 ],
 "metadata": {
  "kernelspec": {
   "display_name": "Python 3",
   "language": "python",
   "name": "python3"
  },
  "language_info": {
   "codemirror_mode": {
    "name": "ipython",
    "version": 3
   },
   "file_extension": ".py",
   "mimetype": "text/x-python",
   "name": "python",
   "nbconvert_exporter": "python",
   "pygments_lexer": "ipython3",
   "version": "3.10.12"
  }
 },
 "nbformat": 4,
 "nbformat_minor": 5
}
