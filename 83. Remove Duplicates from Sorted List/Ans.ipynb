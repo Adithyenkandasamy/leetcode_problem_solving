{
 "cells": [
  {
   "cell_type": "markdown",
   "id": "01e8935a",
   "metadata": {},
   "source": [
    "```markdown\n",
    "### 83. Remove Duplicates from Sorted List\n",
    "\n",
    "**Difficulty:** Easy  \n",
    "**Topics:** Linked List  \n",
    "**Companies:** -  \n",
    "\n",
    "---\n",
    "\n",
    "#### Problem Statement\n",
    "\n",
    "Given the head of a sorted linked list, delete all duplicates such that each element appears only once. Return the linked list sorted as well.\n",
    "\n",
    "---\n",
    "\n",
    "#### Example 1:\n",
    "\n",
    "**Input:**  \n",
    "`head = [1,1,2]`  \n",
    "\n",
    "**Output:**  \n",
    "`[1,2]`  \n",
    "\n",
    "---\n",
    "![alt text](https://assets.leetcode.com/uploads/2021/01/04/list1.jpg)\n",
    "#### Example 2:\n",
    "\n",
    "**Input:**  \n",
    "`head = [1,1,2,3,3]`  \n",
    "\n",
    "**Output:**  \n",
    "`[1,2,3]`  \n",
    "\n",
    "---\n",
    "\n",
    "#### Constraints:\n",
    "\n",
    "- The number of nodes in the list is in the range `[0, 300]`.\n",
    "- `-100 <= Node.val <= 100`\n",
    "- The list is guaranteed to be sorted in ascending order.\n",
    "```"
   ]
  },
  {
   "cell_type": "code",
   "execution_count": 6,
   "id": "edd0c15b",
   "metadata": {},
   "outputs": [],
   "source": [
    "from typing import Optional\n",
    "\n",
    "class ListNode:\n",
    "    def __init__(self, val=0, next=None):\n",
    "        self.val = val\n",
    "        self.next = next\n",
    "\n",
    "class Solution:\n",
    "    def deleteDuplicates(self, head: Optional[ListNode]) -> Optional[ListNode]:\n",
    "        res = head\n",
    "\n",
    "        while head and head.next:\n",
    "            if head.val == head.next.val:\n",
    "                head.next = head.next.next\n",
    "            else:\n",
    "                head = head.next\n",
    "        \n",
    "        return res"
   ]
  },
  {
   "cell_type": "code",
   "execution_count": 8,
   "id": "61faba17",
   "metadata": {},
   "outputs": [],
   "source": [
    "def create_linked_list(arr):\n",
    "    if not arr:\n",
    "        return None\n",
    "    head = ListNode(arr[0])\n",
    "    current = head\n",
    "    for num in arr[1:]:\n",
    "        current.next = ListNode(num)\n",
    "        current = current.next\n",
    "    return head\n",
    "\n",
    "def print_linked_list(head):\n",
    "    while head:\n",
    "        print(head.val, end=\" -> \")\n",
    "        head = head.next\n",
    "    print(\"None\")\n"
   ]
  },
  {
   "cell_type": "code",
   "execution_count": null,
   "id": "c7922294",
   "metadata": {},
   "outputs": [
    {
     "name": "stdout",
     "output_type": "stream",
     "text": [
      "1 -> 2 -> 3 -> None\n"
     ]
    }
   ],
   "source": [
    "if __name__ == \"__main__\":\n",
    "    arr = [1, 1, 2, 3, 3] \n",
    "    head = create_linked_list(arr) \n",
    "\n",
    "    sol = Solution()  \n",
    "    new_head = sol.deleteDuplicates(head)  \n",
    "\n",
    "    print_linked_list(new_head)  "
   ]
  }
 ],
 "metadata": {
  "kernelspec": {
   "display_name": "Python 3",
   "language": "python",
   "name": "python3"
  },
  "language_info": {
   "codemirror_mode": {
    "name": "ipython",
    "version": 3
   },
   "file_extension": ".py",
   "mimetype": "text/x-python",
   "name": "python",
   "nbconvert_exporter": "python",
   "pygments_lexer": "ipython3",
   "version": "3.10.12"
  }
 },
 "nbformat": 4,
 "nbformat_minor": 5
}
