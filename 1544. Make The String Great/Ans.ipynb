{
 "cells": [
  {
   "cell_type": "code",
   "execution_count": null,
   "id": "184bb274",
   "metadata": {
    "vscode": {
     "languageId": "markdown"
    }
   },
   "outputs": [],
   "source": [
    "```markdown\n",
    "# 1544. Make The String Great\n",
    "\n",
    "**Difficulty:** Easy  \n",
    "**Topics:** String, Stack  \n",
    "\n",
    "---\n",
    "\n",
    "## Problem Description\n",
    "\n",
    "Given a string `s` of lower and upper case English letters.\n",
    "\n",
    "A **good string** is a string which doesn't have two adjacent characters `s[i]` and `s[i + 1]` where:\n",
    "\n",
    "- `0 <= i <= s.length - 2`\n",
    "- `s[i]` is a lower-case letter and `s[i + 1]` is the same letter but in upper-case or vice-versa.\n",
    "\n",
    "To make the string good, you can choose two adjacent characters that make the string bad and remove them. You can keep doing this until the string becomes good.\n",
    "\n",
    "Return the string after making it good. The answer is guaranteed to be unique under the given constraints.\n",
    "\n",
    "**Note:** An empty string is also good.\n",
    "\n",
    "---\n",
    "\n",
    "## Examples\n",
    "\n",
    "### Example 1:\n",
    "**Input:**  \n",
    "`s = \"leEeetcode\"`  \n",
    "**Output:**  \n",
    "`\"leetcode\"`  \n",
    "**Explanation:**  \n",
    "In the first step, either you choose `i = 1` or `i = 2`, both will result `\"leEeetcode\"` to be reduced to `\"leetcode\"`.\n",
    "\n",
    "---\n",
    "\n",
    "### Example 2:\n",
    "**Input:**  \n",
    "`s = \"abBAcC\"`  \n",
    "**Output:**  \n",
    "`\"\"`  \n",
    "**Explanation:**  \n",
    "We have many possible scenarios, and all lead to the same answer. For example:  \n",
    "- `\"abBAcC\" --> \"aAcC\" --> \"cC\" --> \"\"`  \n",
    "- `\"abBAcC\" --> \"abBA\" --> \"aA\" --> \"\"`\n",
    "\n",
    "---\n",
    "\n",
    "### Example 3:\n",
    "**Input:**  \n",
    "`s = \"s\"`  \n",
    "**Output:**  \n",
    "`\"s\"`\n",
    "\n",
    "---\n",
    "\n",
    "## Constraints\n",
    "\n",
    "- `1 <= s.length <= 100`\n",
    "- `s` contains only lower and upper case English letters.\n",
    "```"
   ]
  },
  {
   "cell_type": "code",
   "execution_count": null,
   "id": "0ebe66e8",
   "metadata": {},
   "outputs": [],
   "source": [
    "class Solution:\n",
    "    def makeGood(self, s: str) -> str:\n",
    "        stack = []\n",
    "        for char in s:\n",
    "            if stack and abs(ord(char) - ord(stack[-1])) == 32:\n",
    "                stack.pop()\n",
    "            else:\n",
    "                stack.append(char)\n",
    "\n",
    "        return ''.join(stack)"
   ]
  },
  {
   "cell_type": "code",
   "execution_count": 9,
   "id": "80a8fb47",
   "metadata": {},
   "outputs": [
    {
     "name": "stdout",
     "output_type": "stream",
     "text": [
      "leetcode\n"
     ]
    }
   ],
   "source": [
    "s = Solution()\n",
    "print(s.makeGood(\"leEeetcode\"))"
   ]
  }
 ],
 "metadata": {
  "kernelspec": {
   "display_name": "Python 3",
   "language": "python",
   "name": "python3"
  },
  "language_info": {
   "codemirror_mode": {
    "name": "ipython",
    "version": 3
   },
   "file_extension": ".py",
   "mimetype": "text/x-python",
   "name": "python",
   "nbconvert_exporter": "python",
   "pygments_lexer": "ipython3",
   "version": "3.10.12"
  }
 },
 "nbformat": 4,
 "nbformat_minor": 5
}
