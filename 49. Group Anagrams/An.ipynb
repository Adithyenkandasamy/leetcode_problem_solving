{
 "cells": [
  {
   "cell_type": "markdown",
   "metadata": {},
   "source": [
    "# 49. Group Anagrams\n",
    "\n",
    "<font color=\"orange\">Medium</font>\n",
    "<font color=\"blue\">Topics</font>\n",
    "<font color=\"blue\">Companies</font>\n",
    "\n",
    "<font color=\"green\">Given an array of strings strs, group the</font>\n",
    "\n",
    "<font color=\"green\">together. You can return the answer in any order.</font>\n",
    "\n",
    "<font color=\"green\">\n",
    "\n",
    "Example 1:\n",
    "\n",
    "Input: strs = [\"eat\",\"tea\",\"tan\",\"ate\",\"nat\",\"bat\"]\n",
    "\n",
    "Output: [[\"bat\"],[\"nat\",\"tan\"],[\"ate\",\"eat\",\"tea\"]]\n",
    "\n",
    "Explanation:\n",
    "\n",
    "    There is no string in strs that can be rearranged to form \"bat\".\n",
    "    The strings \"nat\" and \"tan\" are anagrams as they can be rearranged to form each other.\n",
    "    The strings \"ate\", \"eat\", and \"tea\" are anagrams as they can be rearranged to form each other.\n",
    "</font>\n",
    "\n",
    "<font color=\"green\">Example 2:</font>\n",
    "\n",
    "<font color=\"green\">Input: strs = [\"\"]</font>\n",
    "\n",
    "<font color=\"green\">Output: [[\"\"]]</font>\n",
    "\n",
    "<font color=\"green\">\n",
    "\n",
    "Example 3:\n",
    "\n",
    "Input: strs = [\"a\"]\n",
    "\n",
    "Output: [[\"a\"]]\n",
    "</font>\n",
    "\n",
    "<font color=\"green\">\n",
    "\n",
    "Constraints:\n",
    "\n",
    "    1 <= strs.length <= 104\n",
    "    0 <= strs[i].length <= 100\n",
    "    strs[i] consists of lowercase English letters.\n",
    "</font>\n"
   ]
  },
  {
   "cell_type": "code",
   "execution_count": 2,
   "metadata": {},
   "outputs": [],
   "source": [
    "strs = [\"eat\",\"tea\",\"tan\",\"ate\",\"nat\",\"bat\"]"
   ]
  },
  {
   "cell_type": "code",
   "execution_count": 31,
   "metadata": {},
   "outputs": [],
   "source": [
    "from collections import defaultdict\n",
    "\n",
    "\n",
    "def groupAnagrams(strs):\n",
    "        res = defaultdict(list)\n",
    "        for w in strs:\n",
    "            key = ''.join(sorted(w))\n",
    "            res[key].append(w)\n",
    "\n",
    "        return list(res.values())\n",
    "          \n",
    "\n",
    "\n"
   ]
  },
  {
   "cell_type": "code",
   "execution_count": 32,
   "metadata": {},
   "outputs": [
    {
     "name": "stdout",
     "output_type": "stream",
     "text": [
      "[['eat', 'tea', 'ate'], ['tan', 'nat'], ['bat']]\n"
     ]
    }
   ],
   "source": [
    "x = groupAnagrams(strs)\n",
    "print(x)"
   ]
  }
 ],
 "metadata": {
  "kernelspec": {
   "display_name": "Python 3",
   "language": "python",
   "name": "python3"
  },
  "language_info": {
   "codemirror_mode": {
    "name": "ipython",
    "version": 3
   },
   "file_extension": ".py",
   "mimetype": "text/x-python",
   "name": "python",
   "nbconvert_exporter": "python",
   "pygments_lexer": "ipython3",
   "version": "3.10.12"
  }
 },
 "nbformat": 4,
 "nbformat_minor": 2
}
