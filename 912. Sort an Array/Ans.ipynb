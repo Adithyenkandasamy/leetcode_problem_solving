{
 "cells": [
  {
   "cell_type": "markdown",
   "id": "89c5ae3d",
   "metadata": {},
   "source": [
    "912. Sort an Array\n",
    "Solved\n",
    "Medium\n",
    "Topics\n",
    "premium lock iconCompanies\n",
    "\n",
    "Given an array of integers nums, sort the array in ascending order and return it.\n",
    "\n",
    "You must solve the problem without using any built-in functions in O(nlog(n)) time complexity and with the smallest space complexity possible.\n",
    "\n",
    " \n",
    "\n",
    "Example 1:\n",
    "\n",
    "Input: nums = [5,2,3,1]\n",
    "Output: [1,2,3,5]\n",
    "Explanation: After sorting the array, the positions of some numbers are not changed (for example, 2 and 3), while the positions of other numbers are changed (for example, 1 and 5).\n",
    "\n",
    "Example 2:\n",
    "\n",
    "Input: nums = [5,1,1,2,0,0]\n",
    "Output: [0,0,1,1,2,5]\n",
    "Explanation: Note that the values of nums are not necessarily unique.\n",
    "\n",
    " \n",
    "\n",
    "Constraints:\n",
    "\n",
    "    1 <= nums.length <= 5 * 104\n",
    "    -5 * 104 <= nums[i] <= 5 * 104\n",
    "\n"
   ]
  },
  {
   "cell_type": "code",
   "execution_count": null,
   "id": "6ccf1537",
   "metadata": {
    "vscode": {
     "languageId": "plaintext"
    }
   },
   "outputs": [],
   "source": [
    "class Solution:\n",
    "    def sortArray(self, Nums: List[int]) -> List[int]:\n",
    "        N = Nums\n",
    "        x = 0\n",
    "        def mergesort(A):\n",
    "            LA = len(A)\n",
    "            if LA == 1: return A\n",
    "            Left, Right = mergesort(A[:LA//2]), mergesort(A[LA//2:])\n",
    "            return merge(Left,Right)\n",
    "\n",
    "        def merge(Lef, Rig):\n",
    "            LLef, LRig = len(Lef), len(Rig)\n",
    "            S, i, j = [], 0, 0\n",
    "            while i < LLef and j < LRig:\n",
    "                if Lef[i] <= Rig[j]: \n",
    "                    S.append(Lef[i])\n",
    "                    i = i + 1\n",
    "                else: \n",
    "                    S.append(Rig[j])\n",
    "                    j = j + 1\n",
    "            return S + (Rig[j:] if i == LLef else Lef[i:])\n",
    "        \n",
    "        return mergesort(N)\t\t\n",
    "\t\t#learn merge sort it is top level sortiing technique\n",
    "\t\t\n"
   ]
  }
 ],
 "metadata": {
  "language_info": {
   "name": "python"
  }
 },
 "nbformat": 4,
 "nbformat_minor": 5
}
