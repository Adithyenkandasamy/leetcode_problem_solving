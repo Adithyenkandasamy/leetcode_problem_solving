{
 "cells": [
  {
   "cell_type": "code",
   "execution_count": null,
   "id": "e7a7060d",
   "metadata": {
    "vscode": {
     "languageId": "markdown"
    }
   },
   "outputs": [],
   "source": [
    "# 206. Reverse Linked List\n",
    "\n",
    "**Difficulty:** Easy  \n",
    "**Topics:** Linked List  \n",
    "**Companies:** Multiple  \n",
    "\n",
    "---\n",
    "\n",
    "## Problem Statement\n",
    "\n",
    "Given the head of a singly linked list, reverse the list, and return the reversed list.\n",
    "\n",
    "---\n",
    "\n",
    "### Example 1:\n",
    "\n",
    "**Input:**  \n",
    "`head = [1,2,3,4,5]`  \n",
    "**Output:**  \n",
    "`[5,4,3,2,1]`\n",
    "\n",
    "![alt text](https://assets.leetcode.com/uploads/2021/02/19/rev1ex1.jpg)\n",
    "---\n",
    "\n",
    "### Example 2:\n",
    "\n",
    "**Input:**  \n",
    "`head = [1,2]`  \n",
    "**Output:**  \n",
    "`[2,1]`\n",
    "\n",
    "---\n",
    "\n",
    "### Example 3:\n",
    "\n",
    "**Input:**  \n",
    "`head = []`  \n",
    "**Output:**  \n",
    "`[]`\n",
    "\n",
    "---\n",
    "\n",
    "## Constraints:\n",
    "\n",
    "- The number of nodes in the list is in the range `[0, 5000]`.\n",
    "- `-5000 <= Node.val <= 5000`\n",
    "\n",
    "---\n",
    "\n",
    "## Follow-Up:\n",
    "\n",
    "A linked list can be reversed either iteratively or recursively. Could you implement both?"
   ]
  },
  {
   "cell_type": "code",
   "execution_count": 23,
   "id": "b8499f42",
   "metadata": {},
   "outputs": [],
   "source": [
    "from typing import Optional\n",
    "class ListNode:\n",
    "    def __init__(self, val=0, next=None):\n",
    "        self.val = val\n",
    "        self.next = next\n",
    "\n",
    "class Solution:\n",
    "    def reverseList(self, head: Optional[ListNode]) -> Optional[ListNode]:\n",
    "        prev = None\n",
    "        curr = head\n",
    "        while curr:\n",
    "            next_node = curr.next \n",
    "            curr.next = prev \n",
    "            prev = curr           \n",
    "            curr = next_node\n",
    "        return prev       "
   ]
  },
  {
   "cell_type": "code",
   "execution_count": 24,
   "id": "fef96d0a",
   "metadata": {},
   "outputs": [],
   "source": [
    "def create_linked_list(arr):\n",
    "    if not arr:\n",
    "        return None\n",
    "    head = ListNode(arr[0])\n",
    "    current = head\n",
    "    for num in arr[1:]:\n",
    "        current.next = ListNode(num)\n",
    "        current = current.next\n",
    "    return head\n",
    "\n",
    "def print_linked_list(head):\n",
    "    while head:\n",
    "        print(head.val, end=\" -> \")\n",
    "        head = head.next\n",
    "    print(\"None\")\n"
   ]
  },
  {
   "cell_type": "code",
   "execution_count": 25,
   "id": "8ff71f8d",
   "metadata": {},
   "outputs": [
    {
     "name": "stdout",
     "output_type": "stream",
     "text": [
      "5 -> 4 -> 3 -> 2 -> 1 -> None\n"
     ]
    }
   ],
   "source": [
    "if __name__ == \"__main__\":\n",
    "    arr = [1,2,3,4,5] \n",
    "    head = create_linked_list(arr) \n",
    "\n",
    "    sol = Solution()  \n",
    "    new_head = sol.reverseList(head)  \n",
    "\n",
    "    print_linked_list(new_head)  "
   ]
  },
  {
   "cell_type": "code",
   "execution_count": null,
   "id": "0cd3f261",
   "metadata": {},
   "outputs": [],
   "source": []
  },
  {
   "cell_type": "code",
   "execution_count": null,
   "id": "27d970ad",
   "metadata": {},
   "outputs": [],
   "source": []
  }
 ],
 "metadata": {
  "kernelspec": {
   "display_name": "Python 3",
   "language": "python",
   "name": "python3"
  },
  "language_info": {
   "codemirror_mode": {
    "name": "ipython",
    "version": 3
   },
   "file_extension": ".py",
   "mimetype": "text/x-python",
   "name": "python",
   "nbconvert_exporter": "python",
   "pygments_lexer": "ipython3",
   "version": "3.10.12"
  }
 },
 "nbformat": 4,
 "nbformat_minor": 5
}
