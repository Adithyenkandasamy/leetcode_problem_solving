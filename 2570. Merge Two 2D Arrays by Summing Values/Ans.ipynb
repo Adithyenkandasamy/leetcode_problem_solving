{
 "cells": [
  {
   "cell_type": "markdown",
   "id": "0a5c3a75",
   "metadata": {},
   "source": [
    "# 🧮 Leetcode 2570 — Merge Two 2D Arrays by Summing Values\n",
    "\n",
    "### 📝 Problem Statement\n",
    "\n",
    "You are given two 2D integer arrays `nums1` and `nums2`.\n",
    "\n",
    "- `nums1[i] = [idᵢ, valᵢ]` indicates that the number with ID `idᵢ` has a value of `valᵢ`.\n",
    "- `nums2[i] = [idᵢ, valᵢ]` is similar.\n",
    "\n",
    "Each array:\n",
    "- Contains **unique IDs**\n",
    "- Is **sorted in ascending order by ID**\n",
    "\n",
    "---\n",
    "\n",
    "### ✅ Goal\n",
    "\n",
    "Merge the two arrays into **one sorted array** (by ID), with:\n",
    "- Only **one entry per ID**\n",
    "- The value being the **sum of values** for each ID (if it appears in both arrays)\n",
    "\n",
    "---\n",
    "\n",
    "### 🔍 Examples\n",
    "\n",
    "#### Example 1:\n",
    "\n",
    "**Input:**\n",
    "```python\n",
    "nums1 = [[1,2],[2,3],[4,5]]\n",
    "nums2 = [[1,4],[3,2],[4,1]]\n",
    "```\n",
    "\n",
    "**Output:**\n",
    "```python\n",
    "[[1,6],[2,3],[3,2],[4,6]]\n",
    "```\n",
    "\n",
    "#### Example 2:\n",
    "\n",
    "**Input:**\n",
    "```python\n",
    "nums1 = [[2,4],[3,6],[5,5]]\n",
    "nums2 = [[1,3],[4,3]]\n",
    "```\n",
    "\n",
    "**Output:**\n",
    "```python\n",
    "[[1,3],[2,4],[3,6],[4,3],[5,5]]\n",
    "```\n",
    "\n",
    "---\n",
    "\n",
    "### 💡 Constraints\n",
    "\n",
    "- `1 <= nums1.length, nums2.length <= 200`\n",
    "- Each subarray has length 2\n",
    "- `1 <= idᵢ, valᵢ <= 1000`\n",
    "- Arrays are sorted by ID\n",
    "\n",
    "---\n",
    "\n",
    "### 🧠 Solution (Python)\n",
    "\n",
    "```python\n",
    "def mergeArrays(nums1, nums2):\n",
    "    from collections import defaultdict\n",
    "\n",
    "    merged = defaultdict(int)\n",
    "\n",
    "    for id_, val in nums1:\n",
    "        merged[id_] += val\n",
    "\n",
    "    for id_, val in nums2:\n",
    "        merged[id_] += val\n",
    "\n",
    "    # Convert to list and sort by id\n",
    "    return sorted([[id_, val] for id_, val in merged.items()])\n",
    "```\n",
    "\n",
    "---\n",
    "\n",
    "### 🕹️ How it Works\n",
    "- Use a `defaultdict(int)` to automatically start values at 0.\n",
    "- Loop through both arrays and add values by `id`.\n",
    "- Convert the dictionary to a list of `[id, value]` and sort it.\n",
    "\n",
    "---\n",
    "\n",
    "### ⏱️ Time & Space Complexity\n",
    "\n",
    "- **Time Complexity:** `O(n log n)` for sorting (where `n` is total number of unique ids)\n",
    "- **Space Complexity:** `O(n)` for storing merged results\n",
    "\n",
    "---\n",
    "\n",
    "Let me know if you want a version with two-pointer logic for fun or interview prep!"
   ]
  },
  {
   "cell_type": "code",
   "execution_count": 13,
   "id": "959e4c2c",
   "metadata": {},
   "outputs": [],
   "source": [
    "from typing import List\n",
    "from collections import defaultdict\n"
   ]
  },
  {
   "cell_type": "code",
   "execution_count": 14,
   "id": "ef0856b4",
   "metadata": {},
   "outputs": [],
   "source": [
    "nums1 = [[1, 2], [2, 3], [3, 4]]\n",
    "nums2 = [[1, 5], [2, 6], [3, 7]]"
   ]
  },
  {
   "cell_type": "code",
   "execution_count": null,
   "id": "4c96b761",
   "metadata": {},
   "outputs": [],
   "source": [
    "def mergeArrays(nums1: List[List[int]], nums2: List[List[int]]) -> List[List[int]]:\n",
    "        ans = defaultdict(int)\n",
    "\n",
    "        for id1, val1 in nums1:\n",
    "            ans[id1] += val1\n",
    "\n",
    "        for id2, val2 in nums2:\n",
    "            ans[id2] += val2\n",
    "        result = sorted([[id_, val] for id_, val in ans.items()])\n",
    "        return result\n"
   ]
  },
  {
   "cell_type": "code",
   "execution_count": 16,
   "id": "8938b3b0",
   "metadata": {},
   "outputs": [
    {
     "data": {
      "text/plain": [
       "[[1, 7], [2, 9], [3, 11]]"
      ]
     },
     "execution_count": 16,
     "metadata": {},
     "output_type": "execute_result"
    }
   ],
   "source": [
    "mergeArrays(nums1, nums2)"
   ]
  },
  {
   "cell_type": "code",
   "execution_count": null,
   "id": "0f9d8693",
   "metadata": {},
   "outputs": [],
   "source": []
  }
 ],
 "metadata": {
  "kernelspec": {
   "display_name": "Python 3",
   "language": "python",
   "name": "python3"
  },
  "language_info": {
   "codemirror_mode": {
    "name": "ipython",
    "version": 3
   },
   "file_extension": ".py",
   "mimetype": "text/x-python",
   "name": "python",
   "nbconvert_exporter": "python",
   "pygments_lexer": "ipython3",
   "version": "3.10.12"
  }
 },
 "nbformat": 4,
 "nbformat_minor": 5
}
