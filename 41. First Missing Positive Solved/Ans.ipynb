{
 "cells": [
  {
   "cell_type": "markdown",
   "id": "f90c72c0",
   "metadata": {},
   "source": [
    "\"\"\"\n",
    "41. First Missing Positive Solved\n",
    "=================================\n",
    "\n",
    "Given an unsorted integer array nums. Return the smallest positive integer that is not present in nums.\n",
    "\n",
    "You must implement an algorithm that runs in O(n) time and uses O(1) auxiliary space.\n",
    "\n",
    "Example 1:\n",
    "\n",
    "Input: nums = [1,2,0]\n",
    "Output: 3\n",
    "Explanation: The numbers in the range [1,2] are all in the array.\n",
    "\n",
    "Example 2:\n",
    "\n",
    "Input: nums = [3,4,-1,1]\n",
    "Output: 2\n",
    "Explanation: 1 is in the array but 2 is missing.\n",
    "\n",
    "Example 3:\n",
    "\n",
    "Input: nums = [7,8,9,11,12]\n",
    "Output: 1\n",
    "Explanation: The smallest positive integer 1 is missing.\n",
    "\n",
    "Constraints:\n",
    "\n",
    "- 1 <= nums.length <= 10^5\n",
    "- 2^31 <= nums[i] <= 2^31 - 1\n",
    "\"\"\"\n",
    "def firstMissingPositive(nums):\n",
    "    \"\"\"\n",
    "    This function takes an unsorted integer array nums and returns the smallest positive integer that is not present in nums.\n",
    "    \"\"\"\n",
    "    # the length of the array\n",
    "    n = len(nums)\n",
    "    # mark the numbers present in the array\n",
    "    for i in range(n):\n",
    "        # if the number is positive and not larger than n\n",
    "        if 1 <= nums[i] <= n:\n",
    "            # mark the number by changing its sign to negative\n",
    "            nums[abs(nums[i])-1] = -abs(nums[i])\n",
    "    # find the first missing positive number\n",
    "    for i in range(n):\n",
    "        # if the number is positive\n",
    "        if nums[i] > 0:\n",
    "            # return the number\n",
    "            return i + 1\n",
    "    # if all numbers are present\n",
    "    return n + 1\n"
   ]
  },
  {
   "cell_type": "code",
   "execution_count": null,
   "id": "79cb2051",
   "metadata": {},
   "outputs": [],
   "source": [
    "class Solution:\n",
    "    def firstMissingPositive(self, nums: List[int]) -> int:\n",
    "        nums.sort()\n",
    "        target = 1\n",
    "        for n in nums:\n",
    "            if n == target:\n",
    "                target += 1\n",
    "            elif n > target:\n",
    "                return target\n",
    "        \n",
    "        return target"
   ]
  }
 ],
 "metadata": {
  "kernelspec": {
   "display_name": "Python 3",
   "language": "python",
   "name": "python3"
  },
  "language_info": {
   "name": "python",
   "version": "3.10.12"
  }
 },
 "nbformat": 4,
 "nbformat_minor": 5
}
