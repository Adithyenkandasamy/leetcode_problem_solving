{
 "cells": [
  {
   "cell_type": "markdown",
   "id": "06645a08",
   "metadata": {},
   "source": [
    "1695. Maximum Erasure Value\n",
    "Medium\n",
    "Topics\n",
    "premium lock iconCompanies\n",
    "Hint\n",
    "\n",
    "You are given an array of positive integers nums and want to erase a subarray containing unique elements. The score you get by erasing the subarray is equal to the sum of its elements.\n",
    "\n",
    "Return the maximum score you can get by erasing exactly one subarray.\n",
    "\n",
    "An array b is called to be a subarray of a if it forms a contiguous subsequence of a, that is, if it is equal to a[l],a[l+1],...,a[r] for some (l,r).\n",
    "\n",
    " \n",
    "\n",
    "Example 1:\n",
    "\n",
    "Input: nums = [4,2,4,5,6]\n",
    "Output: 17\n",
    "Explanation: The optimal subarray here is [2,4,5,6].\n",
    "\n",
    "Example 2:\n",
    "\n",
    "Input: nums = [5,2,1,2,5,2,1,2,5]\n",
    "Output: 8\n",
    "Explanation: The optimal subarray here is [5,2,1] or [1,2,5].\n",
    "\n",
    " \n",
    "\n",
    "Constraints:\n",
    "\n",
    "    1 <= nums.length <= 105\n",
    "    1 <= nums[i] <= 104\n",
    "\n"
   ]
  },
  {
   "cell_type": "code",
   "execution_count": null,
   "id": "853f9bb7",
   "metadata": {},
   "outputs": [],
   "source": [
    "from typing import List\n",
    "\n",
    "class Solution:\n",
    "    def maximumUniqueSubarray(self, nums: List[int]) -> int:\n",
    "        seen = set()\n",
    "        left = 0\n",
    "        curr_sum = 0\n",
    "        max_sum = 0\n",
    "\n",
    "        for right in range(len(nums)):\n",
    "            while nums[right] in seen:\n",
    "                seen.remove(nums[left])\n",
    "                curr_sum -= nums[left]\n",
    "                left += 1\n",
    "            \n",
    "            seen.add(nums[right])\n",
    "            curr_sum += nums[right]\n",
    "            max_sum = max(max_sum, curr_sum)\n",
    "\n",
    "        return max_sum\n"
   ]
  },
  {
   "cell_type": "code",
   "execution_count": 9,
   "id": "e2dc1448",
   "metadata": {},
   "outputs": [
    {
     "data": {
      "text/plain": [
       "[2, 4, 5, 6]"
      ]
     },
     "execution_count": 9,
     "metadata": {},
     "output_type": "execute_result"
    }
   ],
   "source": [
    "s = Solution()\n",
    "s.maximumUniqueSubarray([4,2,4,5,6])"
   ]
  },
  {
   "cell_type": "code",
   "execution_count": null,
   "id": "cf445695",
   "metadata": {},
   "outputs": [],
   "source": []
  },
  {
   "cell_type": "code",
   "execution_count": null,
   "id": "6dc82b0d",
   "metadata": {},
   "outputs": [],
   "source": []
  }
 ],
 "metadata": {
  "kernelspec": {
   "display_name": "Python 3",
   "language": "python",
   "name": "python3"
  },
  "language_info": {
   "codemirror_mode": {
    "name": "ipython",
    "version": 3
   },
   "file_extension": ".py",
   "mimetype": "text/x-python",
   "name": "python",
   "nbconvert_exporter": "python",
   "pygments_lexer": "ipython3",
   "version": "3.10.12"
  }
 },
 "nbformat": 4,
 "nbformat_minor": 5
}
