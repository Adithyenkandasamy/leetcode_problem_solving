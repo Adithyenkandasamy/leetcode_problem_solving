{
 "cells": [
  {
   "cell_type": "markdown",
   "id": "a0ef59f0",
   "metadata": {},
   "source": [
    "3194. Minimum Average of Smallest and Largest Elements\n",
    "Easy\n",
    "Topics\n",
    "Companies\n",
    "Hint\n",
    "\n",
    "You have an array of floating point numbers averages which is initially empty. You are given an array nums of n integers where n is even.\n",
    "\n",
    "You repeat the following procedure n / 2 times:\n",
    "\n",
    "    Remove the smallest element, minElement, and the largest element maxElement, from nums.\n",
    "    Add (minElement + maxElement) / 2 to averages.\n",
    "\n",
    "Return the minimum element in averages.\n",
    "\n",
    " \n",
    "\n",
    "Example 1:\n",
    "\n",
    "Input: nums = [7,8,3,4,15,13,4,1]\n",
    "\n",
    "Output: 5.5\n",
    "\n",
    "Explanation:\n",
    "step\tnums\taverages\n",
    "0\t[7,8,3,4,15,13,4,1]\t[]\n",
    "1\t[7,8,3,4,13,4]\t[8]\n",
    "2\t[7,8,4,4]\t[8,8]\n",
    "3\t[7,4]\t[8,8,6]\n",
    "4\t[]\t[8,8,6,5.5]\n",
    "The smallest element of averages, 5.5, is returned.\n",
    "\n",
    "Example 2:\n",
    "\n",
    "Input: nums = [1,9,8,3,10,5]\n",
    "\n",
    "Output: 5.5\n",
    "\n",
    "Explanation:\n",
    "step\tnums\taverages\n",
    "0\t[1,9,8,3,10,5]\t[]\n",
    "1\t[9,8,3,5]\t[5.5]\n",
    "2\t[8,5]\t[5.5,6]\n",
    "3\t[]\t[5.5,6,6.5]\n",
    "\n",
    "Example 3:\n",
    "\n",
    "Input: nums = [1,2,3,7,8,9]\n",
    "\n",
    "Output: 5.0\n",
    "\n",
    "Explanation:\n",
    "step\tnums\taverages\n",
    "0\t[1,2,3,7,8,9]\t[]\n",
    "1\t[2,3,7,8]\t[5]\n",
    "2\t[3,7]\t[5,5]\n",
    "3\t[]\t[5,5,5]\n",
    "\n",
    " \n",
    "\n",
    "Constraints:\n",
    "\n",
    "    2 <= n == nums.length <= 50\n",
    "    n is even.\n",
    "    1 <= nums[i] <= 50\n",
    "\n"
   ]
  },
  {
   "cell_type": "code",
   "execution_count": 25,
   "id": "38658c7f",
   "metadata": {},
   "outputs": [],
   "source": [
    "from typing import List\n",
    "\n",
    "def minimumAverage(nums: List[int]) -> float:\n",
    "    nums = nums[:]  # Create a copy of the list to avoid modifying the original\n",
    "    result = [] \n",
    "    n = len(nums)\n",
    "    for _ in range(n // 2):  \n",
    "        x = max(nums)\n",
    "        y = min(nums) \n",
    "        z = (x + y) / 2\n",
    "        result.append(z)\n",
    "        nums.remove(x)\n",
    "        nums.remove(y)\n",
    "    return min(result)  "
   ]
  },
  {
   "cell_type": "code",
   "execution_count": 26,
   "id": "e1ac3c0a",
   "metadata": {},
   "outputs": [
    {
     "name": "stdout",
     "output_type": "stream",
     "text": [
      "5.5\n"
     ]
    }
   ],
   "source": [
    "x = minimumAverage([1,9,8,3,10,5])\n",
    "print(x)\n",
    "\n",
    "\n",
    "# nums = [7,8,3,4,15,13,4,1]\n",
    "# result = []\n",
    "# n = len(nums)\n",
    "# for i in range(n // 2):\n",
    "#         x = max(nums)\n",
    "#         y = min(nums) \n",
    "#         z = (x+y)/2\n",
    "#         result.append(z)\n",
    "#         nums.remove(x)\n",
    "#         nums.remove(y)"
   ]
  },
  {
   "cell_type": "code",
   "execution_count": null,
   "id": "d9077bef",
   "metadata": {},
   "outputs": [],
   "source": []
  }
 ],
 "metadata": {
  "kernelspec": {
   "display_name": "Python 3",
   "language": "python",
   "name": "python3"
  },
  "language_info": {
   "codemirror_mode": {
    "name": "ipython",
    "version": 3
   },
   "file_extension": ".py",
   "mimetype": "text/x-python",
   "name": "python",
   "nbconvert_exporter": "python",
   "pygments_lexer": "ipython3",
   "version": "3.10.12"
  }
 },
 "nbformat": 4,
 "nbformat_minor": 5
}
