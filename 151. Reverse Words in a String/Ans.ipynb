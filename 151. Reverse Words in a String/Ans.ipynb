{
 "cells": [
  {
   "cell_type": "markdown",
   "metadata": {},
   "source": [
    "# 151. Reverse Words in a String\n",
    "\n",
    "**Difficulty:** Medium   \n",
    "**Topics:** String, Two Pointers  \n",
    "\n",
    "---\n",
    "\n",
    "## Problem Statement\n",
    "\n",
    "Given an input string `s`, reverse the order of the words.\n",
    "\n",
    "A **word** is defined as a sequence of non-space characters. The words in `s` will be separated by **at least one space**.\n",
    "\n",
    "Return a string of the words in reverse order, concatenated by a single space.\n",
    "\n",
    "Note that `s` may contain **leading or trailing spaces** or **multiple spaces between words**. The returned string should **only** have a single space separating the words. **Do not include any extra spaces.**\n",
    "\n",
    "---\n",
    "\n",
    "## Examples\n",
    "\n",
    "### Example 1:\n",
    "**Input:**  \n",
    "`s = \"the sky is blue\"`  \n",
    "**Output:**  \n",
    "`\"blue is sky the\"`\n",
    "\n",
    "---\n",
    "\n",
    "### Example 2:\n",
    "**Input:**  \n",
    "`s = \"  hello world  \"`  \n",
    "**Output:**  \n",
    "`\"world hello\"`  \n",
    "**Explanation:**  \n",
    "Your reversed string should not contain leading or trailing spaces.\n",
    "\n",
    "---\n",
    "\n",
    "### Example 3:\n",
    "**Input:**  \n",
    "`s = \"a good   example\"`  \n",
    "**Output:**  \n",
    "`\"example good a\"`  \n",
    "**Explanation:**  \n",
    "You need to reduce multiple spaces between two words to a single space in the reversed string.\n",
    "\n",
    "---\n",
    "\n",
    "## Constraints\n",
    "\n",
    "- `1 <= s.length <= 10^4`\n",
    "- `s` contains English letters (upper-case and lower-case), digits, and spaces `' '`.\n",
    "- There is **at least one word** in `s`.\n",
    "\n",
    "---\n",
    "\n",
    "## Hints\n",
    "\n",
    "- Use built-in string manipulation methods like `split()` and `join()` to handle space trimming and word separation.\n"
   ]
  },
  {
   "cell_type": "code",
   "execution_count": 7,
   "metadata": {},
   "outputs": [],
   "source": [
    "def reverseWords(s: str) -> str:\n",
    "    x = s.split()\n",
    "    return ' '.join(x[::-1])"
   ]
  },
  {
   "cell_type": "code",
   "execution_count": 8,
   "metadata": {},
   "outputs": [
    {
     "data": {
      "text/plain": [
       "'blue is sky the'"
      ]
     },
     "execution_count": 8,
     "metadata": {},
     "output_type": "execute_result"
    }
   ],
   "source": [
    "s = \"the sky is blue\"\n",
    "reverseWords(s)"
   ]
  }
 ],
 "metadata": {
  "kernelspec": {
   "display_name": "Python 3",
   "language": "python",
   "name": "python3"
  },
  "language_info": {
   "codemirror_mode": {
    "name": "ipython",
    "version": 3
   },
   "file_extension": ".py",
   "mimetype": "text/x-python",
   "name": "python",
   "nbconvert_exporter": "python",
   "pygments_lexer": "ipython3",
   "version": "3.10.12"
  }
 },
 "nbformat": 4,
 "nbformat_minor": 2
}
