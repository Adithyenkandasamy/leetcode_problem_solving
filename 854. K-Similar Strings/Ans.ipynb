{
 "cells": [
  {
   "cell_type": "markdown",
   "id": "36e42a38",
   "metadata": {},
   "source": [
    "854. K-Similar Strings\n",
    "Hard\n",
    "Topics\n",
    "premium lock iconCompanies\n",
    "\n",
    "Strings s1 and s2 are k-similar (for some non-negative integer k) if we can swap the positions of two letters in s1 exactly k times so that the resulting string equals s2.\n",
    "\n",
    "Given two anagrams s1 and s2, return the smallest k for which s1 and s2 are k-similar.\n",
    "\n",
    " \n",
    "\n",
    "Example 1:\n",
    "\n",
    "Input: s1 = \"ab\", s2 = \"ba\"\n",
    "Output: 1\n",
    "Explanation: The two string are 1-similar because we can use one swap to change s1 to s2: \"ab\" --> \"ba\".\n",
    "\n",
    "Example 2:\n",
    "\n",
    "Input: s1 = \"abc\", s2 = \"bca\"\n",
    "Output: 2\n",
    "Explanation: The two strings are 2-similar because we can use two swaps to change s1 to s2: \"abc\" --> \"bac\" --> \"bca\".\n",
    "\n",
    " \n",
    "\n",
    "Constraints:\n",
    "\n",
    "    1 <= s1.length <= 20\n",
    "    s2.length == s1.length\n",
    "    s1 and s2 contain only lowercase letters from the set {'a', 'b', 'c', 'd', 'e', 'f'}.\n",
    "    s2 is an anagram of s1.\n",
    "\n"
   ]
  },
  {
   "cell_type": "code",
   "execution_count": null,
   "id": "ca99016f",
   "metadata": {},
   "outputs": [],
   "source": [
    "class Solution:\n",
    "    def kSimilarity(self, s1: str, s2: str) -> int:\n",
    "        s = list(s1)\n",
    "        t = list(s2)\n",
    "        print(s)"
   ]
  }
 ],
 "metadata": {
  "kernelspec": {
   "display_name": "Python 3",
   "language": "python",
   "name": "python3"
  },
  "language_info": {
   "name": "python",
   "version": "3.10.12"
  }
 },
 "nbformat": 4,
 "nbformat_minor": 5
}
