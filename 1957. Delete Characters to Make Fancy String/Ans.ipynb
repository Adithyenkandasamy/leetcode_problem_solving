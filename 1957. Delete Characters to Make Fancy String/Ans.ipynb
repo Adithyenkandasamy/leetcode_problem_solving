{
 "cells": [
  {
   "cell_type": "markdown",
   "id": "5e862c87",
   "metadata": {
    "vscode": {
     "languageId": "plaintext"
    }
   },
   "source": [
    "<h1>1957. Delete Characters to Make Fancy String</h1>\n",
    "<p>Easy</p>\n",
    "<p>Topics</p>\n",
    "<p>Companies</p>\n",
    "<p>Hint</p>\n",
    "<p>A fancy string is a string where no three consecutive characters are equal.</p>\n",
    "<p>Given a string s, delete the minimum possible number of characters from s to make it fancy.</p>\n",
    "<p>Return the final string after the deletion. It can be shown that the answer will always be unique.</p>\n",
    "<p>&nbsp;</p>\n",
    "<h2>Example 1:</h2>\n",
    "<p>Input: s = \"leeetcode\"</p>\n",
    "<p>Output: \"leetcode\"</p>\n",
    "<p>Explanation:</p>\n",
    "<p>Remove an 'e' from the first group of 'e's to create \"leetcode\".</p>\n",
    "<p>No three consecutive characters are equal, so return \"leetcode\".</p>\n",
    "<p>&nbsp;</p>\n",
    "<h2>Example 2:</h2>\n",
    "<p>Input: s = \"aaabaaaa\"</p>\n",
    "<p>Output: \"aabaa\"</p>\n",
    "<p>Explanation:</p>\n",
    "<p>Remove an 'a' from the first group of 'a's to create \"aabaaaa\".</p>\n",
    "<p>Remove two 'a's from the second group of 'a's to create \"aabaa\".</p>\n",
    "<p>No three consecutive characters are equal, so return \"aabaa\".</p>\n",
    "<p>&nbsp;</p>\n",
    "<h2>Example 3:</h2>\n",
    "<p>Input: s = \"aab\"</p>\n",
    "<p>Output: \"aab\"</p>\n",
    "<p>Explanation: No three consecutive characters are equal, so return \"aab\".</p>\n",
    "<p>&nbsp;</p>\n",
    "<p>&nbsp;Constraints:</p>\n",
    "<p>&nbsp;</p>\n",
    "<ul>\n",
    "<li>1 &lt;= s.length &lt;= 105</li>\n",
    "<li>s consists only of lowercase English letters.</li>\n",
    "</ul>\n"
   ]
  },
  {
   "cell_type": "code",
   "execution_count": 25,
   "id": "bed0ed60",
   "metadata": {},
   "outputs": [],
   "source": [
    "class Solution:\n",
    "    def makeFancyString(self, s: str) -> str: #s = {leeetcode}\n",
    "        i = 0\n",
    "        while i < len(s) - 2: # 8-2 = 6\n",
    "            if s[i] == s[i+1] == s[i+2]: # l=e=e first no / e=e=e then \n",
    "                s = s[:i] + s[i+1:]  #s = l+eetcode\n",
    "            else:\n",
    "                i += 1 #1 => i = 1+1 \n",
    "        return s\n"
   ]
  },
  {
   "cell_type": "code",
   "execution_count": 26,
   "id": "945b23e3",
   "metadata": {},
   "outputs": [
    {
     "name": "stdout",
     "output_type": "stream",
     "text": [
      "leetcode\n"
     ]
    }
   ],
   "source": [
    "sol = Solution()\n",
    "x = sol.makeFancyString(\"leeetcode\")\n",
    "print(x)"
   ]
  },
  {
   "cell_type": "code",
   "execution_count": null,
   "id": "af79ba64",
   "metadata": {},
   "outputs": [],
   "source": []
  }
 ],
 "metadata": {
  "kernelspec": {
   "display_name": "Python 3",
   "language": "python",
   "name": "python3"
  },
  "language_info": {
   "codemirror_mode": {
    "name": "ipython",
    "version": 3
   },
   "file_extension": ".py",
   "mimetype": "text/x-python",
   "name": "python",
   "nbconvert_exporter": "python",
   "pygments_lexer": "ipython3",
   "version": "3.10.12"
  }
 },
 "nbformat": 4,
 "nbformat_minor": 5
}
